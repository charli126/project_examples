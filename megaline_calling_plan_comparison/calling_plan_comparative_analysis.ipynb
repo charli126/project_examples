{
 "cells": [
  {
   "cell_type": "markdown",
   "metadata": {},
   "source": [
    "# Comparison of two Megaline calling plans\n",
    "### Author: Xia Cui \n",
    "\n",
    "### Introduction \n",
    "\n",
    "Telecom operator Megaline offers its clients two prepaid plans, **Surf** and **Ultimate**. This data analysis project aims to analyze Megaline clients' usage behavior and find out which of the plans is more profitable in order for the commercial department to adjust their advertising budget.\n",
    "\n",
    "This preliminary analysis of the plans is based on a relatively small client selection: 500 Megaline clients, and their usage of the calling plans in 2018. The analysis will be looking at the clients' use of three services: call, message, and internet, and find out the distribution of the usage so as to understand the clients' needs. \n",
    "\n",
    "The comparison of the plan profits, together with an understanding of the consumer needs, will allow the company to decide which plan and what service to promote, and how best to promote them. \n",
    "\n",
    "The table of content below shows the six parts to the report. "
   ]
  },
  {
   "cell_type": "markdown",
   "metadata": {},
   "source": [
    "### Table of content \n",
    "#### [Part 1: Data importing](#importing)  \n",
    "#### [Part 2: Data preprocessing](#preprocessing)  \n",
    "#### [Part 3: Data transformation](#transformation)  \n",
    "#### [Part 4: Exploratory data analysis](#eda)  \n",
    "#### [Part 5: Hypothesis testing](#hypothesis)  \n",
    "#### [Part 6: Findings and conclusions](#conclusion)  "
   ]
  },
  {
   "cell_type": "code",
   "execution_count": 1,
   "metadata": {},
   "outputs": [],
   "source": [
    "import pandas as pd\n",
    "import numpy as np\n",
    "import math\n",
    "from matplotlib import pyplot as plt\n",
    "from scipy import stats as st\n",
    "from IPython.display import display\n",
    "import seaborn as sns\n",
    "%matplotlib inline"
   ]
  },
  {
   "cell_type": "markdown",
   "metadata": {},
   "source": [
    "### Part 1: Data importing"
   ]
  },
  {
   "cell_type": "markdown",
   "metadata": {},
   "source": [
    "<a id=\"importing\"></a>"
   ]
  },
  {
   "cell_type": "markdown",
   "metadata": {},
   "source": [
    "There are a total of 5 datasets for this project. Let's first download them and have a quick look at the information structure. "
   ]
  },
  {
   "cell_type": "code",
   "execution_count": 2,
   "metadata": {},
   "outputs": [],
   "source": [
    "calls = pd.read_csv('https://code.s3.yandex.net/datasets/megaline_calls.csv')\n",
    "internet = pd.read_csv('https://code.s3.yandex.net/datasets/megaline_internet.csv')\n",
    "messages = pd.read_csv('https://code.s3.yandex.net/datasets/megaline_messages.csv')\n",
    "plans = pd.read_csv('https://code.s3.yandex.net/datasets/megaline_plans.csv')\n",
    "users = pd.read_csv('https://code.s3.yandex.net/datasets/megaline_users.csv')"
   ]
  },
  {
   "cell_type": "markdown",
   "metadata": {},
   "source": [
    "Check the first 5 rows of each dataset and its general information. "
   ]
  },
  {
   "cell_type": "code",
   "execution_count": 3,
   "metadata": {},
   "outputs": [
    {
     "data": {
      "text/html": [
       "<div>\n",
       "<style scoped>\n",
       "    .dataframe tbody tr th:only-of-type {\n",
       "        vertical-align: middle;\n",
       "    }\n",
       "\n",
       "    .dataframe tbody tr th {\n",
       "        vertical-align: top;\n",
       "    }\n",
       "\n",
       "    .dataframe thead th {\n",
       "        text-align: right;\n",
       "    }\n",
       "</style>\n",
       "<table border=\"1\" class=\"dataframe\">\n",
       "  <thead>\n",
       "    <tr style=\"text-align: right;\">\n",
       "      <th></th>\n",
       "      <th>id</th>\n",
       "      <th>user_id</th>\n",
       "      <th>call_date</th>\n",
       "      <th>duration</th>\n",
       "    </tr>\n",
       "  </thead>\n",
       "  <tbody>\n",
       "    <tr>\n",
       "      <th>0</th>\n",
       "      <td>1000_93</td>\n",
       "      <td>1000</td>\n",
       "      <td>2018-12-27</td>\n",
       "      <td>8.52</td>\n",
       "    </tr>\n",
       "    <tr>\n",
       "      <th>1</th>\n",
       "      <td>1000_145</td>\n",
       "      <td>1000</td>\n",
       "      <td>2018-12-27</td>\n",
       "      <td>13.66</td>\n",
       "    </tr>\n",
       "    <tr>\n",
       "      <th>2</th>\n",
       "      <td>1000_247</td>\n",
       "      <td>1000</td>\n",
       "      <td>2018-12-27</td>\n",
       "      <td>14.48</td>\n",
       "    </tr>\n",
       "    <tr>\n",
       "      <th>3</th>\n",
       "      <td>1000_309</td>\n",
       "      <td>1000</td>\n",
       "      <td>2018-12-28</td>\n",
       "      <td>5.76</td>\n",
       "    </tr>\n",
       "    <tr>\n",
       "      <th>4</th>\n",
       "      <td>1000_380</td>\n",
       "      <td>1000</td>\n",
       "      <td>2018-12-30</td>\n",
       "      <td>4.22</td>\n",
       "    </tr>\n",
       "  </tbody>\n",
       "</table>\n",
       "</div>"
      ],
      "text/plain": [
       "         id  user_id   call_date  duration\n",
       "0   1000_93     1000  2018-12-27      8.52\n",
       "1  1000_145     1000  2018-12-27     13.66\n",
       "2  1000_247     1000  2018-12-27     14.48\n",
       "3  1000_309     1000  2018-12-28      5.76\n",
       "4  1000_380     1000  2018-12-30      4.22"
      ]
     },
     "execution_count": 3,
     "metadata": {},
     "output_type": "execute_result"
    }
   ],
   "source": [
    "calls.head()"
   ]
  },
  {
   "cell_type": "code",
   "execution_count": 4,
   "metadata": {},
   "outputs": [
    {
     "name": "stdout",
     "output_type": "stream",
     "text": [
      "<class 'pandas.core.frame.DataFrame'>\n",
      "RangeIndex: 137735 entries, 0 to 137734\n",
      "Data columns (total 4 columns):\n",
      " #   Column     Non-Null Count   Dtype  \n",
      "---  ------     --------------   -----  \n",
      " 0   id         137735 non-null  object \n",
      " 1   user_id    137735 non-null  int64  \n",
      " 2   call_date  137735 non-null  object \n",
      " 3   duration   137735 non-null  float64\n",
      "dtypes: float64(1), int64(1), object(2)\n",
      "memory usage: 4.2+ MB\n"
     ]
    }
   ],
   "source": [
    "calls.info()"
   ]
  },
  {
   "cell_type": "code",
   "execution_count": 5,
   "metadata": {},
   "outputs": [
    {
     "data": {
      "text/plain": [
       "(137735, 4)"
      ]
     },
     "execution_count": 5,
     "metadata": {},
     "output_type": "execute_result"
    }
   ],
   "source": [
    "calls.shape"
   ]
  },
  {
   "cell_type": "markdown",
   "metadata": {},
   "source": [
    "The **calls** dataset shows call id, user_id, the date the call was made, and the duration. It contains 137735 rows. The data type for the call_date column is object, which will need to be changed to date in the preprocessing stage. \n",
    "\n",
    "It needs to be noted that, the plan description states that each individual call is rounded up when calculating the cost: even if the call lasted just one second, it will be counted as one minute. "
   ]
  },
  {
   "cell_type": "code",
   "execution_count": 6,
   "metadata": {},
   "outputs": [
    {
     "data": {
      "text/html": [
       "<div>\n",
       "<style scoped>\n",
       "    .dataframe tbody tr th:only-of-type {\n",
       "        vertical-align: middle;\n",
       "    }\n",
       "\n",
       "    .dataframe tbody tr th {\n",
       "        vertical-align: top;\n",
       "    }\n",
       "\n",
       "    .dataframe thead th {\n",
       "        text-align: right;\n",
       "    }\n",
       "</style>\n",
       "<table border=\"1\" class=\"dataframe\">\n",
       "  <thead>\n",
       "    <tr style=\"text-align: right;\">\n",
       "      <th></th>\n",
       "      <th>id</th>\n",
       "      <th>user_id</th>\n",
       "      <th>session_date</th>\n",
       "      <th>mb_used</th>\n",
       "    </tr>\n",
       "  </thead>\n",
       "  <tbody>\n",
       "    <tr>\n",
       "      <th>0</th>\n",
       "      <td>1000_13</td>\n",
       "      <td>1000</td>\n",
       "      <td>2018-12-29</td>\n",
       "      <td>89.86</td>\n",
       "    </tr>\n",
       "    <tr>\n",
       "      <th>1</th>\n",
       "      <td>1000_204</td>\n",
       "      <td>1000</td>\n",
       "      <td>2018-12-31</td>\n",
       "      <td>0.00</td>\n",
       "    </tr>\n",
       "    <tr>\n",
       "      <th>2</th>\n",
       "      <td>1000_379</td>\n",
       "      <td>1000</td>\n",
       "      <td>2018-12-28</td>\n",
       "      <td>660.40</td>\n",
       "    </tr>\n",
       "    <tr>\n",
       "      <th>3</th>\n",
       "      <td>1000_413</td>\n",
       "      <td>1000</td>\n",
       "      <td>2018-12-26</td>\n",
       "      <td>270.99</td>\n",
       "    </tr>\n",
       "    <tr>\n",
       "      <th>4</th>\n",
       "      <td>1000_442</td>\n",
       "      <td>1000</td>\n",
       "      <td>2018-12-27</td>\n",
       "      <td>880.22</td>\n",
       "    </tr>\n",
       "  </tbody>\n",
       "</table>\n",
       "</div>"
      ],
      "text/plain": [
       "         id  user_id session_date  mb_used\n",
       "0   1000_13     1000   2018-12-29    89.86\n",
       "1  1000_204     1000   2018-12-31     0.00\n",
       "2  1000_379     1000   2018-12-28   660.40\n",
       "3  1000_413     1000   2018-12-26   270.99\n",
       "4  1000_442     1000   2018-12-27   880.22"
      ]
     },
     "execution_count": 6,
     "metadata": {},
     "output_type": "execute_result"
    }
   ],
   "source": [
    "internet.head()"
   ]
  },
  {
   "cell_type": "code",
   "execution_count": 7,
   "metadata": {},
   "outputs": [
    {
     "name": "stdout",
     "output_type": "stream",
     "text": [
      "<class 'pandas.core.frame.DataFrame'>\n",
      "RangeIndex: 104825 entries, 0 to 104824\n",
      "Data columns (total 4 columns):\n",
      " #   Column        Non-Null Count   Dtype  \n",
      "---  ------        --------------   -----  \n",
      " 0   id            104825 non-null  object \n",
      " 1   user_id       104825 non-null  int64  \n",
      " 2   session_date  104825 non-null  object \n",
      " 3   mb_used       104825 non-null  float64\n",
      "dtypes: float64(1), int64(1), object(2)\n",
      "memory usage: 3.2+ MB\n"
     ]
    }
   ],
   "source": [
    "internet.info()"
   ]
  },
  {
   "cell_type": "code",
   "execution_count": 8,
   "metadata": {},
   "outputs": [
    {
     "data": {
      "text/plain": [
       "(104825, 4)"
      ]
     },
     "execution_count": 8,
     "metadata": {},
     "output_type": "execute_result"
    }
   ],
   "source": [
    "internet.shape"
   ]
  },
  {
   "cell_type": "markdown",
   "metadata": {},
   "source": [
    "The **internet** dataset includes the internet use id, user_id, the date the internet use occurred, and the data used. The session date will need to be changed to date data type. There also might be rows that have 0 value in mb_used, which we could consider removing as the next step. \n",
    "\n",
    "The plan description states that, for web traffic, individual web sessions are not rounded up. Instead, the total for the month is rounded up. If someone uses 1025 megabytes this month, they will be charged for 2 gigabytes. This will be taken into account when calculating the data cost for each user. "
   ]
  },
  {
   "cell_type": "code",
   "execution_count": 9,
   "metadata": {},
   "outputs": [
    {
     "data": {
      "text/html": [
       "<div>\n",
       "<style scoped>\n",
       "    .dataframe tbody tr th:only-of-type {\n",
       "        vertical-align: middle;\n",
       "    }\n",
       "\n",
       "    .dataframe tbody tr th {\n",
       "        vertical-align: top;\n",
       "    }\n",
       "\n",
       "    .dataframe thead th {\n",
       "        text-align: right;\n",
       "    }\n",
       "</style>\n",
       "<table border=\"1\" class=\"dataframe\">\n",
       "  <thead>\n",
       "    <tr style=\"text-align: right;\">\n",
       "      <th></th>\n",
       "      <th>id</th>\n",
       "      <th>user_id</th>\n",
       "      <th>message_date</th>\n",
       "    </tr>\n",
       "  </thead>\n",
       "  <tbody>\n",
       "    <tr>\n",
       "      <th>0</th>\n",
       "      <td>1000_125</td>\n",
       "      <td>1000</td>\n",
       "      <td>2018-12-27</td>\n",
       "    </tr>\n",
       "    <tr>\n",
       "      <th>1</th>\n",
       "      <td>1000_160</td>\n",
       "      <td>1000</td>\n",
       "      <td>2018-12-31</td>\n",
       "    </tr>\n",
       "    <tr>\n",
       "      <th>2</th>\n",
       "      <td>1000_223</td>\n",
       "      <td>1000</td>\n",
       "      <td>2018-12-31</td>\n",
       "    </tr>\n",
       "    <tr>\n",
       "      <th>3</th>\n",
       "      <td>1000_251</td>\n",
       "      <td>1000</td>\n",
       "      <td>2018-12-27</td>\n",
       "    </tr>\n",
       "    <tr>\n",
       "      <th>4</th>\n",
       "      <td>1000_255</td>\n",
       "      <td>1000</td>\n",
       "      <td>2018-12-26</td>\n",
       "    </tr>\n",
       "  </tbody>\n",
       "</table>\n",
       "</div>"
      ],
      "text/plain": [
       "         id  user_id message_date\n",
       "0  1000_125     1000   2018-12-27\n",
       "1  1000_160     1000   2018-12-31\n",
       "2  1000_223     1000   2018-12-31\n",
       "3  1000_251     1000   2018-12-27\n",
       "4  1000_255     1000   2018-12-26"
      ]
     },
     "execution_count": 9,
     "metadata": {},
     "output_type": "execute_result"
    }
   ],
   "source": [
    "messages.head()"
   ]
  },
  {
   "cell_type": "code",
   "execution_count": 10,
   "metadata": {},
   "outputs": [
    {
     "name": "stdout",
     "output_type": "stream",
     "text": [
      "<class 'pandas.core.frame.DataFrame'>\n",
      "RangeIndex: 76051 entries, 0 to 76050\n",
      "Data columns (total 3 columns):\n",
      " #   Column        Non-Null Count  Dtype \n",
      "---  ------        --------------  ----- \n",
      " 0   id            76051 non-null  object\n",
      " 1   user_id       76051 non-null  int64 \n",
      " 2   message_date  76051 non-null  object\n",
      "dtypes: int64(1), object(2)\n",
      "memory usage: 1.7+ MB\n"
     ]
    }
   ],
   "source": [
    "messages.info()"
   ]
  },
  {
   "cell_type": "code",
   "execution_count": 11,
   "metadata": {},
   "outputs": [
    {
     "data": {
      "text/plain": [
       "(76051, 3)"
      ]
     },
     "execution_count": 11,
     "metadata": {},
     "output_type": "execute_result"
    }
   ],
   "source": [
    "messages.shape"
   ]
  },
  {
   "cell_type": "markdown",
   "metadata": {},
   "source": [
    "The **messages** dataset contains 76051 rows and three columns: the message id, user id, and the date the message was sent. The message_date will need to be changed to date data type as well. "
   ]
  },
  {
   "cell_type": "code",
   "execution_count": 12,
   "metadata": {},
   "outputs": [
    {
     "data": {
      "text/html": [
       "<div>\n",
       "<style scoped>\n",
       "    .dataframe tbody tr th:only-of-type {\n",
       "        vertical-align: middle;\n",
       "    }\n",
       "\n",
       "    .dataframe tbody tr th {\n",
       "        vertical-align: top;\n",
       "    }\n",
       "\n",
       "    .dataframe thead th {\n",
       "        text-align: right;\n",
       "    }\n",
       "</style>\n",
       "<table border=\"1\" class=\"dataframe\">\n",
       "  <thead>\n",
       "    <tr style=\"text-align: right;\">\n",
       "      <th></th>\n",
       "      <th>messages_included</th>\n",
       "      <th>mb_per_month_included</th>\n",
       "      <th>minutes_included</th>\n",
       "      <th>usd_monthly_pay</th>\n",
       "      <th>usd_per_gb</th>\n",
       "      <th>usd_per_message</th>\n",
       "      <th>usd_per_minute</th>\n",
       "      <th>plan_name</th>\n",
       "    </tr>\n",
       "  </thead>\n",
       "  <tbody>\n",
       "    <tr>\n",
       "      <th>0</th>\n",
       "      <td>50</td>\n",
       "      <td>15360</td>\n",
       "      <td>500</td>\n",
       "      <td>20</td>\n",
       "      <td>10</td>\n",
       "      <td>0.03</td>\n",
       "      <td>0.03</td>\n",
       "      <td>surf</td>\n",
       "    </tr>\n",
       "    <tr>\n",
       "      <th>1</th>\n",
       "      <td>1000</td>\n",
       "      <td>30720</td>\n",
       "      <td>3000</td>\n",
       "      <td>70</td>\n",
       "      <td>7</td>\n",
       "      <td>0.01</td>\n",
       "      <td>0.01</td>\n",
       "      <td>ultimate</td>\n",
       "    </tr>\n",
       "  </tbody>\n",
       "</table>\n",
       "</div>"
      ],
      "text/plain": [
       "   messages_included  mb_per_month_included  minutes_included  \\\n",
       "0                 50                  15360               500   \n",
       "1               1000                  30720              3000   \n",
       "\n",
       "   usd_monthly_pay  usd_per_gb  usd_per_message  usd_per_minute plan_name  \n",
       "0               20          10             0.03            0.03      surf  \n",
       "1               70           7             0.01            0.01  ultimate  "
      ]
     },
     "execution_count": 12,
     "metadata": {},
     "output_type": "execute_result"
    }
   ],
   "source": [
    "plans.head()"
   ]
  },
  {
   "cell_type": "code",
   "execution_count": 13,
   "metadata": {},
   "outputs": [
    {
     "name": "stdout",
     "output_type": "stream",
     "text": [
      "<class 'pandas.core.frame.DataFrame'>\n",
      "RangeIndex: 2 entries, 0 to 1\n",
      "Data columns (total 8 columns):\n",
      " #   Column                 Non-Null Count  Dtype  \n",
      "---  ------                 --------------  -----  \n",
      " 0   messages_included      2 non-null      int64  \n",
      " 1   mb_per_month_included  2 non-null      int64  \n",
      " 2   minutes_included       2 non-null      int64  \n",
      " 3   usd_monthly_pay        2 non-null      int64  \n",
      " 4   usd_per_gb             2 non-null      int64  \n",
      " 5   usd_per_message        2 non-null      float64\n",
      " 6   usd_per_minute         2 non-null      float64\n",
      " 7   plan_name              2 non-null      object \n",
      "dtypes: float64(2), int64(5), object(1)\n",
      "memory usage: 256.0+ bytes\n"
     ]
    }
   ],
   "source": [
    "plans.info()"
   ]
  },
  {
   "cell_type": "markdown",
   "metadata": {},
   "source": [
    "In the **plans** dataset, the Surf plan is row 0, and the Ultimate plan, row 1. It contains the information of what is included in the plan, the plan cost, and how to charge the user when messages, calls, and data included in the plan are used up. "
   ]
  },
  {
   "cell_type": "code",
   "execution_count": 14,
   "metadata": {},
   "outputs": [
    {
     "data": {
      "text/html": [
       "<div>\n",
       "<style scoped>\n",
       "    .dataframe tbody tr th:only-of-type {\n",
       "        vertical-align: middle;\n",
       "    }\n",
       "\n",
       "    .dataframe tbody tr th {\n",
       "        vertical-align: top;\n",
       "    }\n",
       "\n",
       "    .dataframe thead th {\n",
       "        text-align: right;\n",
       "    }\n",
       "</style>\n",
       "<table border=\"1\" class=\"dataframe\">\n",
       "  <thead>\n",
       "    <tr style=\"text-align: right;\">\n",
       "      <th></th>\n",
       "      <th>user_id</th>\n",
       "      <th>first_name</th>\n",
       "      <th>last_name</th>\n",
       "      <th>age</th>\n",
       "      <th>city</th>\n",
       "      <th>reg_date</th>\n",
       "      <th>plan</th>\n",
       "      <th>churn_date</th>\n",
       "    </tr>\n",
       "  </thead>\n",
       "  <tbody>\n",
       "    <tr>\n",
       "      <th>0</th>\n",
       "      <td>1000</td>\n",
       "      <td>Anamaria</td>\n",
       "      <td>Bauer</td>\n",
       "      <td>45</td>\n",
       "      <td>Atlanta-Sandy Springs-Roswell, GA MSA</td>\n",
       "      <td>2018-12-24</td>\n",
       "      <td>ultimate</td>\n",
       "      <td>NaN</td>\n",
       "    </tr>\n",
       "    <tr>\n",
       "      <th>1</th>\n",
       "      <td>1001</td>\n",
       "      <td>Mickey</td>\n",
       "      <td>Wilkerson</td>\n",
       "      <td>28</td>\n",
       "      <td>Seattle-Tacoma-Bellevue, WA MSA</td>\n",
       "      <td>2018-08-13</td>\n",
       "      <td>surf</td>\n",
       "      <td>NaN</td>\n",
       "    </tr>\n",
       "    <tr>\n",
       "      <th>2</th>\n",
       "      <td>1002</td>\n",
       "      <td>Carlee</td>\n",
       "      <td>Hoffman</td>\n",
       "      <td>36</td>\n",
       "      <td>Las Vegas-Henderson-Paradise, NV MSA</td>\n",
       "      <td>2018-10-21</td>\n",
       "      <td>surf</td>\n",
       "      <td>NaN</td>\n",
       "    </tr>\n",
       "    <tr>\n",
       "      <th>3</th>\n",
       "      <td>1003</td>\n",
       "      <td>Reynaldo</td>\n",
       "      <td>Jenkins</td>\n",
       "      <td>52</td>\n",
       "      <td>Tulsa, OK MSA</td>\n",
       "      <td>2018-01-28</td>\n",
       "      <td>surf</td>\n",
       "      <td>NaN</td>\n",
       "    </tr>\n",
       "    <tr>\n",
       "      <th>4</th>\n",
       "      <td>1004</td>\n",
       "      <td>Leonila</td>\n",
       "      <td>Thompson</td>\n",
       "      <td>40</td>\n",
       "      <td>Seattle-Tacoma-Bellevue, WA MSA</td>\n",
       "      <td>2018-05-23</td>\n",
       "      <td>surf</td>\n",
       "      <td>NaN</td>\n",
       "    </tr>\n",
       "  </tbody>\n",
       "</table>\n",
       "</div>"
      ],
      "text/plain": [
       "   user_id first_name  last_name  age                                   city  \\\n",
       "0     1000   Anamaria      Bauer   45  Atlanta-Sandy Springs-Roswell, GA MSA   \n",
       "1     1001     Mickey  Wilkerson   28        Seattle-Tacoma-Bellevue, WA MSA   \n",
       "2     1002     Carlee    Hoffman   36   Las Vegas-Henderson-Paradise, NV MSA   \n",
       "3     1003   Reynaldo    Jenkins   52                          Tulsa, OK MSA   \n",
       "4     1004    Leonila   Thompson   40        Seattle-Tacoma-Bellevue, WA MSA   \n",
       "\n",
       "     reg_date      plan churn_date  \n",
       "0  2018-12-24  ultimate        NaN  \n",
       "1  2018-08-13      surf        NaN  \n",
       "2  2018-10-21      surf        NaN  \n",
       "3  2018-01-28      surf        NaN  \n",
       "4  2018-05-23      surf        NaN  "
      ]
     },
     "execution_count": 14,
     "metadata": {},
     "output_type": "execute_result"
    }
   ],
   "source": [
    "users.head()"
   ]
  },
  {
   "cell_type": "code",
   "execution_count": 15,
   "metadata": {},
   "outputs": [
    {
     "name": "stdout",
     "output_type": "stream",
     "text": [
      "<class 'pandas.core.frame.DataFrame'>\n",
      "RangeIndex: 500 entries, 0 to 499\n",
      "Data columns (total 8 columns):\n",
      " #   Column      Non-Null Count  Dtype \n",
      "---  ------      --------------  ----- \n",
      " 0   user_id     500 non-null    int64 \n",
      " 1   first_name  500 non-null    object\n",
      " 2   last_name   500 non-null    object\n",
      " 3   age         500 non-null    int64 \n",
      " 4   city        500 non-null    object\n",
      " 5   reg_date    500 non-null    object\n",
      " 6   plan        500 non-null    object\n",
      " 7   churn_date  34 non-null     object\n",
      "dtypes: int64(2), object(6)\n",
      "memory usage: 31.4+ KB\n"
     ]
    }
   ],
   "source": [
    "users.info()"
   ]
  },
  {
   "cell_type": "code",
   "execution_count": 16,
   "metadata": {},
   "outputs": [
    {
     "data": {
      "text/plain": [
       "(500, 8)"
      ]
     },
     "execution_count": 16,
     "metadata": {},
     "output_type": "execute_result"
    }
   ],
   "source": [
    "users.shape"
   ]
  },
  {
   "cell_type": "markdown",
   "metadata": {},
   "source": [
    "The **users** dataset includes information about the 500 Megaline users. reg_date is the date they are registered, and the churn_date is the date they stopped using the service. NaN in churn_date indicates the user is still using the plan at the time the data was collected. Both columns will need to be changed to the date data type. "
   ]
  },
  {
   "cell_type": "markdown",
   "metadata": {},
   "source": [
    "### Part 1 Summary "
   ]
  },
  {
   "cell_type": "markdown",
   "metadata": {},
   "source": [
    "After importing the 5 datasets and taking a look at their general information, we can tell that these are overall in pretty good condition to be further analyized. However, there are some small issues to be addressed, which are: \n",
    "\n",
    "- the date columns need to be changed to **date** data type\n",
    "- call duration and data usage columns contain 0 values that we could consider removing \n",
    "- the *age* column in **users** could be changed to age groups for easy manipulation\n",
    "- some additional columns based on existing information, such as month of the usage, will be needed. \n",
    "\n",
    "There might also be errors in the data which we haven't detected yet. In the next section, we will check the dataset one by one for errors and address the issues noted above.  "
   ]
  },
  {
   "cell_type": "markdown",
   "metadata": {},
   "source": [
    "### Part 2: Data preprocessing "
   ]
  },
  {
   "cell_type": "markdown",
   "metadata": {},
   "source": [
    "<a id=\"preprocessing\"></a>"
   ]
  },
  {
   "cell_type": "markdown",
   "metadata": {},
   "source": [
    "**2.1 Check and prepare the calls dataset** "
   ]
  },
  {
   "cell_type": "code",
   "execution_count": 17,
   "metadata": {},
   "outputs": [
    {
     "data": {
      "text/plain": [
       "id           0\n",
       "user_id      0\n",
       "call_date    0\n",
       "duration     0\n",
       "dtype: int64"
      ]
     },
     "execution_count": 17,
     "metadata": {},
     "output_type": "execute_result"
    }
   ],
   "source": [
    "calls.isnull().sum(axis = 0)"
   ]
  },
  {
   "cell_type": "code",
   "execution_count": 18,
   "metadata": {},
   "outputs": [],
   "source": [
    "calls['call_date'] = pd.to_datetime(calls['call_date'], format = '%Y-%m-%d')"
   ]
  },
  {
   "cell_type": "code",
   "execution_count": 19,
   "metadata": {},
   "outputs": [
    {
     "data": {
      "text/plain": [
       "481"
      ]
     },
     "execution_count": 19,
     "metadata": {},
     "output_type": "execute_result"
    }
   ],
   "source": [
    "len(calls['user_id']. unique())"
   ]
  },
  {
   "cell_type": "markdown",
   "metadata": {},
   "source": [
    "Out of the 500 Megaline clients, 481 have records of making calls in this dataset. "
   ]
  },
  {
   "cell_type": "code",
   "execution_count": 20,
   "metadata": {},
   "outputs": [
    {
     "data": {
      "text/plain": [
       "351"
      ]
     },
     "execution_count": 20,
     "metadata": {},
     "output_type": "execute_result"
    }
   ],
   "source": [
    "len(calls['call_date'].unique())"
   ]
  },
  {
   "cell_type": "markdown",
   "metadata": {},
   "source": [
    "There are a total of 351 days on the record in this dataset. "
   ]
  },
  {
   "cell_type": "code",
   "execution_count": 21,
   "metadata": {},
   "outputs": [
    {
     "data": {
      "text/plain": [
       "count    137735.000000\n",
       "mean          6.745927\n",
       "std           5.839241\n",
       "min           0.000000\n",
       "25%           1.290000\n",
       "50%           5.980000\n",
       "75%          10.690000\n",
       "max          37.600000\n",
       "Name: duration, dtype: float64"
      ]
     },
     "execution_count": 21,
     "metadata": {},
     "output_type": "execute_result"
    }
   ],
   "source": [
    "calls['duration'].describe()"
   ]
  },
  {
   "cell_type": "code",
   "execution_count": 22,
   "metadata": {},
   "outputs": [
    {
     "data": {
      "text/plain": [
       "0.1948233927469416"
      ]
     },
     "execution_count": 22,
     "metadata": {},
     "output_type": "execute_result"
    }
   ],
   "source": [
    "len(calls[calls['duration'] == 0]) / len(calls)"
   ]
  },
  {
   "cell_type": "markdown",
   "metadata": {},
   "source": [
    "The rows that have call duration as 0 represents almost 20 percent of the total data. These are calls that never happened. Given the purpose of this analysis is to find out which plan is more profitable, we are only interested in the calls that will go into the cost calculation. Therefore. These rows can be dropped. "
   ]
  },
  {
   "cell_type": "code",
   "execution_count": 23,
   "metadata": {},
   "outputs": [],
   "source": [
    "calls = calls.query('duration != 0').reset_index(drop = True)"
   ]
  },
  {
   "cell_type": "code",
   "execution_count": 24,
   "metadata": {},
   "outputs": [
    {
     "name": "stdout",
     "output_type": "stream",
     "text": [
      "<class 'pandas.core.frame.DataFrame'>\n",
      "RangeIndex: 110901 entries, 0 to 110900\n",
      "Data columns (total 4 columns):\n",
      " #   Column     Non-Null Count   Dtype         \n",
      "---  ------     --------------   -----         \n",
      " 0   id         110901 non-null  object        \n",
      " 1   user_id    110901 non-null  int64         \n",
      " 2   call_date  110901 non-null  datetime64[ns]\n",
      " 3   duration   110901 non-null  float64       \n",
      "dtypes: datetime64[ns](1), float64(1), int64(1), object(1)\n",
      "memory usage: 3.4+ MB\n"
     ]
    }
   ],
   "source": [
    "calls.info()"
   ]
  },
  {
   "cell_type": "markdown",
   "metadata": {},
   "source": [
    "**2.2 Check and prepare the internet dataset**"
   ]
  },
  {
   "cell_type": "code",
   "execution_count": 25,
   "metadata": {},
   "outputs": [
    {
     "data": {
      "text/plain": [
       "id              0\n",
       "user_id         0\n",
       "session_date    0\n",
       "mb_used         0\n",
       "dtype: int64"
      ]
     },
     "execution_count": 25,
     "metadata": {},
     "output_type": "execute_result"
    }
   ],
   "source": [
    "internet.isnull().sum(axis = 0)"
   ]
  },
  {
   "cell_type": "code",
   "execution_count": 26,
   "metadata": {},
   "outputs": [],
   "source": [
    "internet['session_date'] = pd.to_datetime(internet['session_date'], format = \"%Y-%m-%d\")"
   ]
  },
  {
   "cell_type": "code",
   "execution_count": 27,
   "metadata": {},
   "outputs": [
    {
     "data": {
      "text/plain": [
       "351"
      ]
     },
     "execution_count": 27,
     "metadata": {},
     "output_type": "execute_result"
    }
   ],
   "source": [
    "len(internet['session_date'].unique())"
   ]
  },
  {
   "cell_type": "code",
   "execution_count": 28,
   "metadata": {},
   "outputs": [
    {
     "data": {
      "text/plain": [
       "489"
      ]
     },
     "execution_count": 28,
     "metadata": {},
     "output_type": "execute_result"
    }
   ],
   "source": [
    "len(internet['user_id'].unique())"
   ]
  },
  {
   "cell_type": "markdown",
   "metadata": {},
   "source": [
    "489 out of 500 Megaline users have used the internet service in 2018. "
   ]
  },
  {
   "cell_type": "code",
   "execution_count": 29,
   "metadata": {},
   "outputs": [
    {
     "data": {
      "text/plain": [
       "count    104825.000000\n",
       "mean        366.713701\n",
       "std         277.170542\n",
       "min           0.000000\n",
       "25%         136.080000\n",
       "50%         343.980000\n",
       "75%         554.610000\n",
       "max        1693.470000\n",
       "Name: mb_used, dtype: float64"
      ]
     },
     "execution_count": 29,
     "metadata": {},
     "output_type": "execute_result"
    }
   ],
   "source": [
    "internet['mb_used'].describe()"
   ]
  },
  {
   "cell_type": "code",
   "execution_count": 30,
   "metadata": {},
   "outputs": [
    {
     "data": {
      "text/plain": [
       "0.1311423801574052"
      ]
     },
     "execution_count": 30,
     "metadata": {},
     "output_type": "execute_result"
    }
   ],
   "source": [
    "len(internet[internet['mb_used'] == 0]) / len(internet)"
   ]
  },
  {
   "cell_type": "markdown",
   "metadata": {},
   "source": [
    "The rows that have 0 data usage represents about 13% of the total data. Similar to the call dataset, the 0 value rows can be removed from the internet dataset. "
   ]
  },
  {
   "cell_type": "code",
   "execution_count": 31,
   "metadata": {},
   "outputs": [],
   "source": [
    "internet = internet.query('mb_used != 0').reset_index(drop = True)"
   ]
  },
  {
   "cell_type": "code",
   "execution_count": 32,
   "metadata": {},
   "outputs": [
    {
     "name": "stdout",
     "output_type": "stream",
     "text": [
      "<class 'pandas.core.frame.DataFrame'>\n",
      "RangeIndex: 91078 entries, 0 to 91077\n",
      "Data columns (total 4 columns):\n",
      " #   Column        Non-Null Count  Dtype         \n",
      "---  ------        --------------  -----         \n",
      " 0   id            91078 non-null  object        \n",
      " 1   user_id       91078 non-null  int64         \n",
      " 2   session_date  91078 non-null  datetime64[ns]\n",
      " 3   mb_used       91078 non-null  float64       \n",
      "dtypes: datetime64[ns](1), float64(1), int64(1), object(1)\n",
      "memory usage: 2.8+ MB\n"
     ]
    }
   ],
   "source": [
    "internet.info()"
   ]
  },
  {
   "cell_type": "markdown",
   "metadata": {},
   "source": [
    "**2.3 Check and prepare the message dataset**"
   ]
  },
  {
   "cell_type": "code",
   "execution_count": 33,
   "metadata": {},
   "outputs": [],
   "source": [
    "messages['message_date'] = pd.to_datetime(messages['message_date'], format = '%Y-%m-%d')"
   ]
  },
  {
   "cell_type": "code",
   "execution_count": 34,
   "metadata": {},
   "outputs": [
    {
     "data": {
      "text/plain": [
       "402"
      ]
     },
     "execution_count": 34,
     "metadata": {},
     "output_type": "execute_result"
    }
   ],
   "source": [
    "len(messages['user_id'].unique())"
   ]
  },
  {
   "cell_type": "markdown",
   "metadata": {},
   "source": [
    "402 out of 500 Megaline clients have used the message service in 2018. It's interesting to note that almost 25% of the users didn't use the text message function at all. From Megaline's perspective, it would be helpful to know who those users are and adjust their promotion of calling plans to such sub group accordingly. We will come back to this later in the analysis. "
   ]
  },
  {
   "cell_type": "code",
   "execution_count": 35,
   "metadata": {
    "scrolled": true
   },
   "outputs": [
    {
     "name": "stdout",
     "output_type": "stream",
     "text": [
      "<class 'pandas.core.frame.DataFrame'>\n",
      "RangeIndex: 76051 entries, 0 to 76050\n",
      "Data columns (total 3 columns):\n",
      " #   Column        Non-Null Count  Dtype         \n",
      "---  ------        --------------  -----         \n",
      " 0   id            76051 non-null  object        \n",
      " 1   user_id       76051 non-null  int64         \n",
      " 2   message_date  76051 non-null  datetime64[ns]\n",
      "dtypes: datetime64[ns](1), int64(1), object(1)\n",
      "memory usage: 1.7+ MB\n"
     ]
    }
   ],
   "source": [
    "messages.info()"
   ]
  },
  {
   "cell_type": "markdown",
   "metadata": {},
   "source": [
    "**2.4 Check and prepare the plans dataset**"
   ]
  },
  {
   "cell_type": "code",
   "execution_count": 36,
   "metadata": {},
   "outputs": [
    {
     "data": {
      "text/html": [
       "<div>\n",
       "<style scoped>\n",
       "    .dataframe tbody tr th:only-of-type {\n",
       "        vertical-align: middle;\n",
       "    }\n",
       "\n",
       "    .dataframe tbody tr th {\n",
       "        vertical-align: top;\n",
       "    }\n",
       "\n",
       "    .dataframe thead th {\n",
       "        text-align: right;\n",
       "    }\n",
       "</style>\n",
       "<table border=\"1\" class=\"dataframe\">\n",
       "  <thead>\n",
       "    <tr style=\"text-align: right;\">\n",
       "      <th></th>\n",
       "      <th>messages_included</th>\n",
       "      <th>mb_per_month_included</th>\n",
       "      <th>minutes_included</th>\n",
       "      <th>usd_monthly_pay</th>\n",
       "      <th>usd_per_gb</th>\n",
       "      <th>usd_per_message</th>\n",
       "      <th>usd_per_minute</th>\n",
       "      <th>plan_name</th>\n",
       "    </tr>\n",
       "  </thead>\n",
       "  <tbody>\n",
       "    <tr>\n",
       "      <th>0</th>\n",
       "      <td>50</td>\n",
       "      <td>15360</td>\n",
       "      <td>500</td>\n",
       "      <td>20</td>\n",
       "      <td>10</td>\n",
       "      <td>0.03</td>\n",
       "      <td>0.03</td>\n",
       "      <td>surf</td>\n",
       "    </tr>\n",
       "    <tr>\n",
       "      <th>1</th>\n",
       "      <td>1000</td>\n",
       "      <td>30720</td>\n",
       "      <td>3000</td>\n",
       "      <td>70</td>\n",
       "      <td>7</td>\n",
       "      <td>0.01</td>\n",
       "      <td>0.01</td>\n",
       "      <td>ultimate</td>\n",
       "    </tr>\n",
       "  </tbody>\n",
       "</table>\n",
       "</div>"
      ],
      "text/plain": [
       "   messages_included  mb_per_month_included  minutes_included  \\\n",
       "0                 50                  15360               500   \n",
       "1               1000                  30720              3000   \n",
       "\n",
       "   usd_monthly_pay  usd_per_gb  usd_per_message  usd_per_minute plan_name  \n",
       "0               20          10             0.03            0.03      surf  \n",
       "1               70           7             0.01            0.01  ultimate  "
      ]
     },
     "execution_count": 36,
     "metadata": {},
     "output_type": "execute_result"
    }
   ],
   "source": [
    "plans"
   ]
  },
  {
   "cell_type": "markdown",
   "metadata": {},
   "source": [
    "The plans dataset is easy. Nothing needs to be modified. "
   ]
  },
  {
   "cell_type": "markdown",
   "metadata": {},
   "source": [
    "**2.5 Check and prepare the users dataset**"
   ]
  },
  {
   "cell_type": "code",
   "execution_count": 37,
   "metadata": {},
   "outputs": [
    {
     "data": {
      "text/plain": [
       "user_id         0\n",
       "first_name      0\n",
       "last_name       0\n",
       "age             0\n",
       "city            0\n",
       "reg_date        0\n",
       "plan            0\n",
       "churn_date    466\n",
       "dtype: int64"
      ]
     },
     "execution_count": 37,
     "metadata": {},
     "output_type": "execute_result"
    }
   ],
   "source": [
    "users.isnull().sum(axis=0)"
   ]
  },
  {
   "cell_type": "markdown",
   "metadata": {},
   "source": [
    "Out of 500 Megaline clients, there are 34 who have stopped using the plan. It would be interesting to see who these 34 people are and what their plans and usage are like. We'll keep this in mind for now. "
   ]
  },
  {
   "cell_type": "markdown",
   "metadata": {},
   "source": [
    "We can easily use pandas to_datetime function to convert the data type for the 'reg_date' column. For the 'churn_date' column, let's convert the 34 which have stopped the plan, and replace the NaN values in the rest of the rows with a empty string. "
   ]
  },
  {
   "cell_type": "code",
   "execution_count": 38,
   "metadata": {},
   "outputs": [],
   "source": [
    "users['reg_date'] = pd.to_datetime(users['reg_date'], format = '%Y-%m-%d')"
   ]
  },
  {
   "cell_type": "code",
   "execution_count": 39,
   "metadata": {},
   "outputs": [],
   "source": [
    "users['churn_date'] = users['churn_date'].where(\n",
    "    users['churn_date'].isna(), pd.to_datetime(users['churn_date'], format = '%Y-%m-%d'))"
   ]
  },
  {
   "cell_type": "code",
   "execution_count": 40,
   "metadata": {},
   "outputs": [],
   "source": [
    "users['churn_date'] = users['churn_date'].fillna(\"\")"
   ]
  },
  {
   "cell_type": "code",
   "execution_count": 41,
   "metadata": {},
   "outputs": [
    {
     "data": {
      "text/plain": [
       "user_id       0\n",
       "first_name    0\n",
       "last_name     0\n",
       "age           0\n",
       "city          0\n",
       "reg_date      0\n",
       "plan          0\n",
       "churn_date    0\n",
       "dtype: int64"
      ]
     },
     "execution_count": 41,
     "metadata": {},
     "output_type": "execute_result"
    }
   ],
   "source": [
    "users.isnull().sum(axis = 0)"
   ]
  },
  {
   "cell_type": "code",
   "execution_count": 42,
   "metadata": {},
   "outputs": [
    {
     "data": {
      "text/plain": [
       "New York-Newark-Jersey City, NY-NJ-PA MSA          80\n",
       "Los Angeles-Long Beach-Anaheim, CA MSA             29\n",
       "Dallas-Fort Worth-Arlington, TX MSA                21\n",
       "Chicago-Naperville-Elgin, IL-IN-WI MSA             19\n",
       "Philadelphia-Camden-Wilmington, PA-NJ-DE-MD MSA    17\n",
       "                                                   ..\n",
       "Albany-Schenectady-Troy, NY MSA                     1\n",
       "El Paso, TX MSA                                     1\n",
       "Jacksonville, FL MSA                                1\n",
       "Greensboro-High Point, NC MSA                       1\n",
       "Raleigh-Cary, NC MSA                                1\n",
       "Name: city, Length: 73, dtype: int64"
      ]
     },
     "execution_count": 42,
     "metadata": {},
     "output_type": "execute_result"
    }
   ],
   "source": [
    "users['city'].value_counts()"
   ]
  },
  {
   "cell_type": "markdown",
   "metadata": {},
   "source": [
    "There are a total of 73 cities on record in this dataset. Ideally, it would be more organized to have the state in a single column separate from the city column. However, for the purpose of this analysis, this information is not considered cruicial. Therefore, let's leave the information as it is. "
   ]
  },
  {
   "cell_type": "markdown",
   "metadata": {},
   "source": [
    "### Part 2 summary "
   ]
  },
  {
   "cell_type": "markdown",
   "metadata": {},
   "source": [
    "In this section, we checked through each dataset for error and changed the date column data type. The rows in calls and internet datasets which are 0 havev been removed. All datasets are neat and tidy now. In the next section: Data transformation, we will add some columns to the existing datasets to facilitate the follow up analysis."
   ]
  },
  {
   "cell_type": "markdown",
   "metadata": {},
   "source": [
    "### Part 3: Data transformation "
   ]
  },
  {
   "cell_type": "markdown",
   "metadata": {},
   "source": [
    "<a id=\"transformation\"></a>"
   ]
  },
  {
   "cell_type": "markdown",
   "metadata": {},
   "source": [
    "To further prepare the data for the follow up analysis, we will need to add a month column to the **calls**, **internet**, and **message** dataset so that we can calculate the montly usage. Given all the data were collected in 2018. The month column alone would be sufficient. \n",
    "\n",
    "In addition, given that for calls each individual call is rounded up to the minute, we will need to add a column to the **calls** dataset with the minute only. \n",
    "\n",
    "we will also need to add a 'age_group' column to the users dataset, and extract a reduced set of columns from it into a new dataset. \n",
    "\n",
    "Last, just out of interest, we will single out the 34 users who have terminated their service and have a look at them at a later stage. "
   ]
  },
  {
   "cell_type": "markdown",
   "metadata": {},
   "source": [
    "**3.1 Add a month column to each service usage dataset**"
   ]
  },
  {
   "cell_type": "code",
   "execution_count": 43,
   "metadata": {},
   "outputs": [],
   "source": [
    "calls['call_month'] = pd.DatetimeIndex(calls['call_date']).month"
   ]
  },
  {
   "cell_type": "code",
   "execution_count": 44,
   "metadata": {},
   "outputs": [
    {
     "name": "stdout",
     "output_type": "stream",
     "text": [
      "<class 'pandas.core.frame.DataFrame'>\n",
      "RangeIndex: 110901 entries, 0 to 110900\n",
      "Data columns (total 5 columns):\n",
      " #   Column      Non-Null Count   Dtype         \n",
      "---  ------      --------------   -----         \n",
      " 0   id          110901 non-null  object        \n",
      " 1   user_id     110901 non-null  int64         \n",
      " 2   call_date   110901 non-null  datetime64[ns]\n",
      " 3   duration    110901 non-null  float64       \n",
      " 4   call_month  110901 non-null  int64         \n",
      "dtypes: datetime64[ns](1), float64(1), int64(2), object(1)\n",
      "memory usage: 4.2+ MB\n"
     ]
    }
   ],
   "source": [
    "calls.info()"
   ]
  },
  {
   "cell_type": "code",
   "execution_count": 45,
   "metadata": {},
   "outputs": [],
   "source": [
    "internet['session_month'] = pd.DatetimeIndex(internet['session_date']).month"
   ]
  },
  {
   "cell_type": "code",
   "execution_count": 46,
   "metadata": {},
   "outputs": [
    {
     "name": "stdout",
     "output_type": "stream",
     "text": [
      "<class 'pandas.core.frame.DataFrame'>\n",
      "RangeIndex: 91078 entries, 0 to 91077\n",
      "Data columns (total 5 columns):\n",
      " #   Column         Non-Null Count  Dtype         \n",
      "---  ------         --------------  -----         \n",
      " 0   id             91078 non-null  object        \n",
      " 1   user_id        91078 non-null  int64         \n",
      " 2   session_date   91078 non-null  datetime64[ns]\n",
      " 3   mb_used        91078 non-null  float64       \n",
      " 4   session_month  91078 non-null  int64         \n",
      "dtypes: datetime64[ns](1), float64(1), int64(2), object(1)\n",
      "memory usage: 3.5+ MB\n"
     ]
    }
   ],
   "source": [
    "internet.info()"
   ]
  },
  {
   "cell_type": "code",
   "execution_count": 47,
   "metadata": {},
   "outputs": [],
   "source": [
    "messages['message_month'] = pd.DatetimeIndex(messages['message_date']).month"
   ]
  },
  {
   "cell_type": "code",
   "execution_count": 48,
   "metadata": {},
   "outputs": [
    {
     "name": "stdout",
     "output_type": "stream",
     "text": [
      "<class 'pandas.core.frame.DataFrame'>\n",
      "RangeIndex: 76051 entries, 0 to 76050\n",
      "Data columns (total 4 columns):\n",
      " #   Column         Non-Null Count  Dtype         \n",
      "---  ------         --------------  -----         \n",
      " 0   id             76051 non-null  object        \n",
      " 1   user_id        76051 non-null  int64         \n",
      " 2   message_date   76051 non-null  datetime64[ns]\n",
      " 3   message_month  76051 non-null  int64         \n",
      "dtypes: datetime64[ns](1), int64(2), object(1)\n",
      "memory usage: 2.3+ MB\n"
     ]
    }
   ],
   "source": [
    "messages.info()"
   ]
  },
  {
   "cell_type": "markdown",
   "metadata": {},
   "source": [
    "**3.2 Add a 'duration_minute' column to the calls dataset**"
   ]
  },
  {
   "cell_type": "code",
   "execution_count": 49,
   "metadata": {},
   "outputs": [],
   "source": [
    "calls['duration_minute'] = calls['duration'].apply(np.ceil)"
   ]
  },
  {
   "cell_type": "code",
   "execution_count": 50,
   "metadata": {},
   "outputs": [
    {
     "data": {
      "text/html": [
       "<div>\n",
       "<style scoped>\n",
       "    .dataframe tbody tr th:only-of-type {\n",
       "        vertical-align: middle;\n",
       "    }\n",
       "\n",
       "    .dataframe tbody tr th {\n",
       "        vertical-align: top;\n",
       "    }\n",
       "\n",
       "    .dataframe thead th {\n",
       "        text-align: right;\n",
       "    }\n",
       "</style>\n",
       "<table border=\"1\" class=\"dataframe\">\n",
       "  <thead>\n",
       "    <tr style=\"text-align: right;\">\n",
       "      <th></th>\n",
       "      <th>id</th>\n",
       "      <th>user_id</th>\n",
       "      <th>call_date</th>\n",
       "      <th>duration</th>\n",
       "      <th>call_month</th>\n",
       "      <th>duration_minute</th>\n",
       "    </tr>\n",
       "  </thead>\n",
       "  <tbody>\n",
       "    <tr>\n",
       "      <th>0</th>\n",
       "      <td>1000_93</td>\n",
       "      <td>1000</td>\n",
       "      <td>2018-12-27</td>\n",
       "      <td>8.52</td>\n",
       "      <td>12</td>\n",
       "      <td>9.0</td>\n",
       "    </tr>\n",
       "    <tr>\n",
       "      <th>1</th>\n",
       "      <td>1000_145</td>\n",
       "      <td>1000</td>\n",
       "      <td>2018-12-27</td>\n",
       "      <td>13.66</td>\n",
       "      <td>12</td>\n",
       "      <td>14.0</td>\n",
       "    </tr>\n",
       "    <tr>\n",
       "      <th>2</th>\n",
       "      <td>1000_247</td>\n",
       "      <td>1000</td>\n",
       "      <td>2018-12-27</td>\n",
       "      <td>14.48</td>\n",
       "      <td>12</td>\n",
       "      <td>15.0</td>\n",
       "    </tr>\n",
       "    <tr>\n",
       "      <th>3</th>\n",
       "      <td>1000_309</td>\n",
       "      <td>1000</td>\n",
       "      <td>2018-12-28</td>\n",
       "      <td>5.76</td>\n",
       "      <td>12</td>\n",
       "      <td>6.0</td>\n",
       "    </tr>\n",
       "    <tr>\n",
       "      <th>4</th>\n",
       "      <td>1000_380</td>\n",
       "      <td>1000</td>\n",
       "      <td>2018-12-30</td>\n",
       "      <td>4.22</td>\n",
       "      <td>12</td>\n",
       "      <td>5.0</td>\n",
       "    </tr>\n",
       "  </tbody>\n",
       "</table>\n",
       "</div>"
      ],
      "text/plain": [
       "         id  user_id  call_date  duration  call_month  duration_minute\n",
       "0   1000_93     1000 2018-12-27      8.52          12              9.0\n",
       "1  1000_145     1000 2018-12-27     13.66          12             14.0\n",
       "2  1000_247     1000 2018-12-27     14.48          12             15.0\n",
       "3  1000_309     1000 2018-12-28      5.76          12              6.0\n",
       "4  1000_380     1000 2018-12-30      4.22          12              5.0"
      ]
     },
     "execution_count": 50,
     "metadata": {},
     "output_type": "execute_result"
    }
   ],
   "source": [
    "calls.head()"
   ]
  },
  {
   "cell_type": "markdown",
   "metadata": {},
   "source": [
    "**3.3 Add 'age_group' column to users dataset**"
   ]
  },
  {
   "cell_type": "code",
   "execution_count": 51,
   "metadata": {},
   "outputs": [
    {
     "data": {
      "text/plain": [
       "count    500.000000\n",
       "mean      45.486000\n",
       "std       16.972269\n",
       "min       18.000000\n",
       "25%       30.000000\n",
       "50%       46.000000\n",
       "75%       61.000000\n",
       "max       75.000000\n",
       "Name: age, dtype: float64"
      ]
     },
     "execution_count": 51,
     "metadata": {},
     "output_type": "execute_result"
    }
   ],
   "source": [
    "users['age'].describe()"
   ]
  },
  {
   "cell_type": "markdown",
   "metadata": {},
   "source": [
    "Age as individual numbers may not be the most useful if we are to look for people's behavioural characteristics in using calling plans. Therefore let's convert these into age groups:  18 - 34, 35 - 44, 45 - 54, 55 - 64, above 65."
   ]
  },
  {
   "cell_type": "code",
   "execution_count": 52,
   "metadata": {},
   "outputs": [],
   "source": [
    "def age_group_func(age):\n",
    "    if 18 <= age < 35:\n",
    "        return '18-34'\n",
    "    elif 35 <= age < 45:\n",
    "        return '35-44'\n",
    "    elif 45 <= age < 55:\n",
    "        return '45-54'\n",
    "    elif 55 <= age <= 65:\n",
    "        return '55-65'\n",
    "    else:\n",
    "        return 'above 65'"
   ]
  },
  {
   "cell_type": "code",
   "execution_count": 53,
   "metadata": {},
   "outputs": [],
   "source": [
    "users['age_group'] = users['age'].apply(age_group_func)"
   ]
  },
  {
   "cell_type": "code",
   "execution_count": 54,
   "metadata": {},
   "outputs": [
    {
     "data": {
      "text/plain": [
       "18-34       164\n",
       "45-54        92\n",
       "55-65        89\n",
       "above 65     81\n",
       "35-44        74\n",
       "Name: age_group, dtype: int64"
      ]
     },
     "execution_count": 54,
     "metadata": {},
     "output_type": "execute_result"
    }
   ],
   "source": [
    "users['age_group'].value_counts()"
   ]
  },
  {
   "cell_type": "markdown",
   "metadata": {},
   "source": [
    "Now we have five age groups, instead of 500 individual numbers. "
   ]
  },
  {
   "cell_type": "markdown",
   "metadata": {},
   "source": [
    "**3.4 Create a new user dataset containing a reduced set of columns**"
   ]
  },
  {
   "cell_type": "markdown",
   "metadata": {},
   "source": [
    "In the **users** dataset, the most useful columns to the goals of our analysis are user_id, plan, age_group, and city. Therefore let's save these columns into a new dataset: users_new, and use this for our follow up analysis. "
   ]
  },
  {
   "cell_type": "code",
   "execution_count": 55,
   "metadata": {},
   "outputs": [],
   "source": [
    "users_new = users[['user_id', 'age_group', 'plan', 'city']]"
   ]
  },
  {
   "cell_type": "code",
   "execution_count": 56,
   "metadata": {},
   "outputs": [
    {
     "data": {
      "text/html": [
       "<div>\n",
       "<style scoped>\n",
       "    .dataframe tbody tr th:only-of-type {\n",
       "        vertical-align: middle;\n",
       "    }\n",
       "\n",
       "    .dataframe tbody tr th {\n",
       "        vertical-align: top;\n",
       "    }\n",
       "\n",
       "    .dataframe thead th {\n",
       "        text-align: right;\n",
       "    }\n",
       "</style>\n",
       "<table border=\"1\" class=\"dataframe\">\n",
       "  <thead>\n",
       "    <tr style=\"text-align: right;\">\n",
       "      <th></th>\n",
       "      <th>user_id</th>\n",
       "      <th>age_group</th>\n",
       "      <th>plan</th>\n",
       "      <th>city</th>\n",
       "    </tr>\n",
       "  </thead>\n",
       "  <tbody>\n",
       "    <tr>\n",
       "      <th>0</th>\n",
       "      <td>1000</td>\n",
       "      <td>45-54</td>\n",
       "      <td>ultimate</td>\n",
       "      <td>Atlanta-Sandy Springs-Roswell, GA MSA</td>\n",
       "    </tr>\n",
       "    <tr>\n",
       "      <th>1</th>\n",
       "      <td>1001</td>\n",
       "      <td>18-34</td>\n",
       "      <td>surf</td>\n",
       "      <td>Seattle-Tacoma-Bellevue, WA MSA</td>\n",
       "    </tr>\n",
       "    <tr>\n",
       "      <th>2</th>\n",
       "      <td>1002</td>\n",
       "      <td>35-44</td>\n",
       "      <td>surf</td>\n",
       "      <td>Las Vegas-Henderson-Paradise, NV MSA</td>\n",
       "    </tr>\n",
       "    <tr>\n",
       "      <th>3</th>\n",
       "      <td>1003</td>\n",
       "      <td>45-54</td>\n",
       "      <td>surf</td>\n",
       "      <td>Tulsa, OK MSA</td>\n",
       "    </tr>\n",
       "    <tr>\n",
       "      <th>4</th>\n",
       "      <td>1004</td>\n",
       "      <td>35-44</td>\n",
       "      <td>surf</td>\n",
       "      <td>Seattle-Tacoma-Bellevue, WA MSA</td>\n",
       "    </tr>\n",
       "  </tbody>\n",
       "</table>\n",
       "</div>"
      ],
      "text/plain": [
       "   user_id age_group      plan                                   city\n",
       "0     1000     45-54  ultimate  Atlanta-Sandy Springs-Roswell, GA MSA\n",
       "1     1001     18-34      surf        Seattle-Tacoma-Bellevue, WA MSA\n",
       "2     1002     35-44      surf   Las Vegas-Henderson-Paradise, NV MSA\n",
       "3     1003     45-54      surf                          Tulsa, OK MSA\n",
       "4     1004     35-44      surf        Seattle-Tacoma-Bellevue, WA MSA"
      ]
     },
     "execution_count": 56,
     "metadata": {},
     "output_type": "execute_result"
    }
   ],
   "source": [
    "users_new.head()"
   ]
  },
  {
   "cell_type": "markdown",
   "metadata": {},
   "source": [
    "For the reduced dataset, plan is shown in either 'ultimate' or 'surf'. If the dataset were a lot large, we would have used code to represent these two values. However, give we only have 500 entries in this dataset, we won't create another reference table and let's keep the column as it is."
   ]
  },
  {
   "cell_type": "markdown",
   "metadata": {},
   "source": [
    "**3.5 Create a dataset of users who have terminated their plan**"
   ]
  },
  {
   "cell_type": "code",
   "execution_count": 57,
   "metadata": {},
   "outputs": [],
   "source": [
    "users_previous = users[users['churn_date'] != '']"
   ]
  },
  {
   "cell_type": "code",
   "execution_count": 58,
   "metadata": {},
   "outputs": [
    {
     "data": {
      "text/plain": [
       "34"
      ]
     },
     "execution_count": 58,
     "metadata": {},
     "output_type": "execute_result"
    }
   ],
   "source": [
    "len(users_previous)"
   ]
  },
  {
   "cell_type": "markdown",
   "metadata": {},
   "source": [
    "### Part 3 summary "
   ]
  },
  {
   "cell_type": "markdown",
   "metadata": {},
   "source": [
    "In this section, we added a month column to the **calls**, **internet**, and **message** dataset, a new duration column in minutes to **calls** dataset, an 'age_group' column to the users dataset, and extract a reduced set of columns from it into a new users dataset. Now the datasets are ready for the exploratory analysis next. "
   ]
  },
  {
   "cell_type": "markdown",
   "metadata": {},
   "source": [
    "### Part 4: Exploratory data analysis "
   ]
  },
  {
   "cell_type": "markdown",
   "metadata": {},
   "source": [
    "<a id=\"eda\"></a>"
   ]
  },
  {
   "cell_type": "markdown",
   "metadata": {},
   "source": [
    "In this section, we will first summarize the following for each Megaline user: \n",
    "- the number of calls made and minutes used per month\n",
    "- the number of text messages sent per month\n",
    "- the volume of data per month\n",
    "- the monthly profit from each user (subtract the free package limit from the total number of calls, text messages, and data; multiply the result by the calling plan value; add the monthly charge depending on the calling plan)\n",
    "\n",
    "From the information above, we'll then find the minutes, texts, and volume of data the users of each plan require per month and plot them in histograms. The mean, dispersion, and standard deviation of these will also be calculated. \n"
   ]
  },
  {
   "cell_type": "markdown",
   "metadata": {},
   "source": [
    "**4.1 The number of calls made and minutes used per month by user**"
   ]
  },
  {
   "cell_type": "code",
   "execution_count": 59,
   "metadata": {},
   "outputs": [
    {
     "data": {
      "text/html": [
       "<div>\n",
       "<style scoped>\n",
       "    .dataframe tbody tr th:only-of-type {\n",
       "        vertical-align: middle;\n",
       "    }\n",
       "\n",
       "    .dataframe tbody tr th {\n",
       "        vertical-align: top;\n",
       "    }\n",
       "\n",
       "    .dataframe thead th {\n",
       "        text-align: right;\n",
       "    }\n",
       "</style>\n",
       "<table border=\"1\" class=\"dataframe\">\n",
       "  <thead>\n",
       "    <tr style=\"text-align: right;\">\n",
       "      <th></th>\n",
       "      <th>id</th>\n",
       "      <th>user_id</th>\n",
       "      <th>call_date</th>\n",
       "      <th>duration</th>\n",
       "      <th>call_month</th>\n",
       "      <th>duration_minute</th>\n",
       "    </tr>\n",
       "  </thead>\n",
       "  <tbody>\n",
       "    <tr>\n",
       "      <th>0</th>\n",
       "      <td>1000_93</td>\n",
       "      <td>1000</td>\n",
       "      <td>2018-12-27</td>\n",
       "      <td>8.52</td>\n",
       "      <td>12</td>\n",
       "      <td>9.0</td>\n",
       "    </tr>\n",
       "    <tr>\n",
       "      <th>1</th>\n",
       "      <td>1000_145</td>\n",
       "      <td>1000</td>\n",
       "      <td>2018-12-27</td>\n",
       "      <td>13.66</td>\n",
       "      <td>12</td>\n",
       "      <td>14.0</td>\n",
       "    </tr>\n",
       "    <tr>\n",
       "      <th>2</th>\n",
       "      <td>1000_247</td>\n",
       "      <td>1000</td>\n",
       "      <td>2018-12-27</td>\n",
       "      <td>14.48</td>\n",
       "      <td>12</td>\n",
       "      <td>15.0</td>\n",
       "    </tr>\n",
       "    <tr>\n",
       "      <th>3</th>\n",
       "      <td>1000_309</td>\n",
       "      <td>1000</td>\n",
       "      <td>2018-12-28</td>\n",
       "      <td>5.76</td>\n",
       "      <td>12</td>\n",
       "      <td>6.0</td>\n",
       "    </tr>\n",
       "    <tr>\n",
       "      <th>4</th>\n",
       "      <td>1000_380</td>\n",
       "      <td>1000</td>\n",
       "      <td>2018-12-30</td>\n",
       "      <td>4.22</td>\n",
       "      <td>12</td>\n",
       "      <td>5.0</td>\n",
       "    </tr>\n",
       "  </tbody>\n",
       "</table>\n",
       "</div>"
      ],
      "text/plain": [
       "         id  user_id  call_date  duration  call_month  duration_minute\n",
       "0   1000_93     1000 2018-12-27      8.52          12              9.0\n",
       "1  1000_145     1000 2018-12-27     13.66          12             14.0\n",
       "2  1000_247     1000 2018-12-27     14.48          12             15.0\n",
       "3  1000_309     1000 2018-12-28      5.76          12              6.0\n",
       "4  1000_380     1000 2018-12-30      4.22          12              5.0"
      ]
     },
     "execution_count": 59,
     "metadata": {},
     "output_type": "execute_result"
    }
   ],
   "source": [
    "calls.head()"
   ]
  },
  {
   "cell_type": "markdown",
   "metadata": {},
   "source": [
    "Let's group the calls data by 'user_id' and 'call_month' and calculate the number of calls and total minutes each month. "
   ]
  },
  {
   "cell_type": "code",
   "execution_count": 60,
   "metadata": {},
   "outputs": [],
   "source": [
    "calls_user = calls.groupby(['user_id', 'call_month']).aggregate({\n",
    "    'duration_minute' : ['count','sum']})"
   ]
  },
  {
   "cell_type": "code",
   "execution_count": 61,
   "metadata": {},
   "outputs": [],
   "source": [
    "calls_user.columns = ['number_of_calls', 'total_minutes']"
   ]
  },
  {
   "cell_type": "code",
   "execution_count": 62,
   "metadata": {},
   "outputs": [
    {
     "data": {
      "text/html": [
       "<div>\n",
       "<style scoped>\n",
       "    .dataframe tbody tr th:only-of-type {\n",
       "        vertical-align: middle;\n",
       "    }\n",
       "\n",
       "    .dataframe tbody tr th {\n",
       "        vertical-align: top;\n",
       "    }\n",
       "\n",
       "    .dataframe thead th {\n",
       "        text-align: right;\n",
       "    }\n",
       "</style>\n",
       "<table border=\"1\" class=\"dataframe\">\n",
       "  <thead>\n",
       "    <tr style=\"text-align: right;\">\n",
       "      <th></th>\n",
       "      <th>user_id</th>\n",
       "      <th>call_month</th>\n",
       "      <th>number_of_calls</th>\n",
       "      <th>total_minutes</th>\n",
       "    </tr>\n",
       "  </thead>\n",
       "  <tbody>\n",
       "    <tr>\n",
       "      <th>0</th>\n",
       "      <td>1000</td>\n",
       "      <td>12</td>\n",
       "      <td>16</td>\n",
       "      <td>124.0</td>\n",
       "    </tr>\n",
       "    <tr>\n",
       "      <th>1</th>\n",
       "      <td>1001</td>\n",
       "      <td>8</td>\n",
       "      <td>22</td>\n",
       "      <td>182.0</td>\n",
       "    </tr>\n",
       "    <tr>\n",
       "      <th>2</th>\n",
       "      <td>1001</td>\n",
       "      <td>9</td>\n",
       "      <td>38</td>\n",
       "      <td>315.0</td>\n",
       "    </tr>\n",
       "    <tr>\n",
       "      <th>3</th>\n",
       "      <td>1001</td>\n",
       "      <td>10</td>\n",
       "      <td>47</td>\n",
       "      <td>393.0</td>\n",
       "    </tr>\n",
       "    <tr>\n",
       "      <th>4</th>\n",
       "      <td>1001</td>\n",
       "      <td>11</td>\n",
       "      <td>49</td>\n",
       "      <td>426.0</td>\n",
       "    </tr>\n",
       "    <tr>\n",
       "      <th>...</th>\n",
       "      <td>...</td>\n",
       "      <td>...</td>\n",
       "      <td>...</td>\n",
       "      <td>...</td>\n",
       "    </tr>\n",
       "    <tr>\n",
       "      <th>2251</th>\n",
       "      <td>1498</td>\n",
       "      <td>12</td>\n",
       "      <td>32</td>\n",
       "      <td>339.0</td>\n",
       "    </tr>\n",
       "    <tr>\n",
       "      <th>2252</th>\n",
       "      <td>1499</td>\n",
       "      <td>9</td>\n",
       "      <td>35</td>\n",
       "      <td>346.0</td>\n",
       "    </tr>\n",
       "    <tr>\n",
       "      <th>2253</th>\n",
       "      <td>1499</td>\n",
       "      <td>10</td>\n",
       "      <td>41</td>\n",
       "      <td>385.0</td>\n",
       "    </tr>\n",
       "    <tr>\n",
       "      <th>2254</th>\n",
       "      <td>1499</td>\n",
       "      <td>11</td>\n",
       "      <td>39</td>\n",
       "      <td>308.0</td>\n",
       "    </tr>\n",
       "    <tr>\n",
       "      <th>2255</th>\n",
       "      <td>1499</td>\n",
       "      <td>12</td>\n",
       "      <td>56</td>\n",
       "      <td>496.0</td>\n",
       "    </tr>\n",
       "  </tbody>\n",
       "</table>\n",
       "<p>2256 rows × 4 columns</p>\n",
       "</div>"
      ],
      "text/plain": [
       "      user_id  call_month  number_of_calls  total_minutes\n",
       "0        1000          12               16          124.0\n",
       "1        1001           8               22          182.0\n",
       "2        1001           9               38          315.0\n",
       "3        1001          10               47          393.0\n",
       "4        1001          11               49          426.0\n",
       "...       ...         ...              ...            ...\n",
       "2251     1498          12               32          339.0\n",
       "2252     1499           9               35          346.0\n",
       "2253     1499          10               41          385.0\n",
       "2254     1499          11               39          308.0\n",
       "2255     1499          12               56          496.0\n",
       "\n",
       "[2256 rows x 4 columns]"
      ]
     },
     "metadata": {},
     "output_type": "display_data"
    }
   ],
   "source": [
    "calls_user = calls_user.reset_index()\n",
    "display(calls_user)"
   ]
  },
  {
   "cell_type": "markdown",
   "metadata": {},
   "source": [
    "Let's take a look at the summary statistics of the number of calls and the calling minutes each month by the users. "
   ]
  },
  {
   "cell_type": "code",
   "execution_count": 63,
   "metadata": {},
   "outputs": [
    {
     "data": {
      "text/html": [
       "<div>\n",
       "<style scoped>\n",
       "    .dataframe tbody tr th:only-of-type {\n",
       "        vertical-align: middle;\n",
       "    }\n",
       "\n",
       "    .dataframe tbody tr th {\n",
       "        vertical-align: top;\n",
       "    }\n",
       "\n",
       "    .dataframe thead th {\n",
       "        text-align: right;\n",
       "    }\n",
       "</style>\n",
       "<table border=\"1\" class=\"dataframe\">\n",
       "  <thead>\n",
       "    <tr style=\"text-align: right;\">\n",
       "      <th></th>\n",
       "      <th>number_of_calls</th>\n",
       "      <th>total_minutes</th>\n",
       "    </tr>\n",
       "  </thead>\n",
       "  <tbody>\n",
       "    <tr>\n",
       "      <th>count</th>\n",
       "      <td>2256.000000</td>\n",
       "      <td>2256.000000</td>\n",
       "    </tr>\n",
       "    <tr>\n",
       "      <th>mean</th>\n",
       "      <td>49.158245</td>\n",
       "      <td>436.324025</td>\n",
       "    </tr>\n",
       "    <tr>\n",
       "      <th>std</th>\n",
       "      <td>25.667968</td>\n",
       "      <td>231.711444</td>\n",
       "    </tr>\n",
       "    <tr>\n",
       "      <th>min</th>\n",
       "      <td>1.000000</td>\n",
       "      <td>2.000000</td>\n",
       "    </tr>\n",
       "    <tr>\n",
       "      <th>25%</th>\n",
       "      <td>32.000000</td>\n",
       "      <td>275.000000</td>\n",
       "    </tr>\n",
       "    <tr>\n",
       "      <th>50%</th>\n",
       "      <td>48.000000</td>\n",
       "      <td>429.000000</td>\n",
       "    </tr>\n",
       "    <tr>\n",
       "      <th>75%</th>\n",
       "      <td>64.000000</td>\n",
       "      <td>575.250000</td>\n",
       "    </tr>\n",
       "    <tr>\n",
       "      <th>max</th>\n",
       "      <td>167.000000</td>\n",
       "      <td>1510.000000</td>\n",
       "    </tr>\n",
       "  </tbody>\n",
       "</table>\n",
       "</div>"
      ],
      "text/plain": [
       "       number_of_calls  total_minutes\n",
       "count      2256.000000    2256.000000\n",
       "mean         49.158245     436.324025\n",
       "std          25.667968     231.711444\n",
       "min           1.000000       2.000000\n",
       "25%          32.000000     275.000000\n",
       "50%          48.000000     429.000000\n",
       "75%          64.000000     575.250000\n",
       "max         167.000000    1510.000000"
      ]
     },
     "execution_count": 63,
     "metadata": {},
     "output_type": "execute_result"
    }
   ],
   "source": [
    "calls_user[['number_of_calls', 'total_minutes']].describe()"
   ]
  },
  {
   "cell_type": "markdown",
   "metadata": {},
   "source": [
    "Let's make two plots showing their distribution. "
   ]
  },
  {
   "cell_type": "code",
   "execution_count": 64,
   "metadata": {},
   "outputs": [
    {
     "data": {
      "image/png": "[encoded data removed]",
      "text/plain": [
       "<Figure size 720x288 with 2 Axes>"
      ]
     },
     "metadata": {
      "needs_background": "light"
     },
     "output_type": "display_data"
    }
   ],
   "source": [
    "fig, (ax1,ax2) = plt.subplots(1,2, figsize=(10,4))\n",
    "calls_user.hist('number_of_calls', bins = 20, grid = True, ax = ax1)\n",
    "ax1.set_xlabel('Number of calls')\n",
    "ax1.set_ylabel('Frequency')\n",
    "ax1.set_title('Distribution of the monthly number of calls by user')\n",
    "\n",
    "calls_user.hist('total_minutes', bins = 20, grid = True, ax = ax2)\n",
    "ax2.set_xlabel('Total monthly calling minutes by user')\n",
    "ax2.set_ylabel('Frequency')\n",
    "ax2.set_title('Distribution of monthly calling minutes by user')\n",
    "\n",
    "plt.tight_layout() "
   ]
  },
  {
   "cell_type": "markdown",
   "metadata": {},
   "source": [
    "Overall, the number of calls per month by user peaks around 50, and the monthly minutes peak around 500 minutes. "
   ]
  },
  {
   "cell_type": "markdown",
   "metadata": {},
   "source": [
    "**4.2 the number of text messages sent per month by user**"
   ]
  },
  {
   "cell_type": "code",
   "execution_count": 65,
   "metadata": {},
   "outputs": [
    {
     "data": {
      "text/html": [
       "<div>\n",
       "<style scoped>\n",
       "    .dataframe tbody tr th:only-of-type {\n",
       "        vertical-align: middle;\n",
       "    }\n",
       "\n",
       "    .dataframe tbody tr th {\n",
       "        vertical-align: top;\n",
       "    }\n",
       "\n",
       "    .dataframe thead th {\n",
       "        text-align: right;\n",
       "    }\n",
       "</style>\n",
       "<table border=\"1\" class=\"dataframe\">\n",
       "  <thead>\n",
       "    <tr style=\"text-align: right;\">\n",
       "      <th></th>\n",
       "      <th>id</th>\n",
       "      <th>user_id</th>\n",
       "      <th>message_date</th>\n",
       "      <th>message_month</th>\n",
       "    </tr>\n",
       "  </thead>\n",
       "  <tbody>\n",
       "    <tr>\n",
       "      <th>0</th>\n",
       "      <td>1000_125</td>\n",
       "      <td>1000</td>\n",
       "      <td>2018-12-27</td>\n",
       "      <td>12</td>\n",
       "    </tr>\n",
       "    <tr>\n",
       "      <th>1</th>\n",
       "      <td>1000_160</td>\n",
       "      <td>1000</td>\n",
       "      <td>2018-12-31</td>\n",
       "      <td>12</td>\n",
       "    </tr>\n",
       "    <tr>\n",
       "      <th>2</th>\n",
       "      <td>1000_223</td>\n",
       "      <td>1000</td>\n",
       "      <td>2018-12-31</td>\n",
       "      <td>12</td>\n",
       "    </tr>\n",
       "    <tr>\n",
       "      <th>3</th>\n",
       "      <td>1000_251</td>\n",
       "      <td>1000</td>\n",
       "      <td>2018-12-27</td>\n",
       "      <td>12</td>\n",
       "    </tr>\n",
       "    <tr>\n",
       "      <th>4</th>\n",
       "      <td>1000_255</td>\n",
       "      <td>1000</td>\n",
       "      <td>2018-12-26</td>\n",
       "      <td>12</td>\n",
       "    </tr>\n",
       "  </tbody>\n",
       "</table>\n",
       "</div>"
      ],
      "text/plain": [
       "         id  user_id message_date  message_month\n",
       "0  1000_125     1000   2018-12-27             12\n",
       "1  1000_160     1000   2018-12-31             12\n",
       "2  1000_223     1000   2018-12-31             12\n",
       "3  1000_251     1000   2018-12-27             12\n",
       "4  1000_255     1000   2018-12-26             12"
      ]
     },
     "execution_count": 65,
     "metadata": {},
     "output_type": "execute_result"
    }
   ],
   "source": [
    "messages.head()"
   ]
  },
  {
   "cell_type": "code",
   "execution_count": 66,
   "metadata": {},
   "outputs": [],
   "source": [
    "messages_user = messages.groupby(['user_id', 'message_month']).aggregate({'id' : 'count'})"
   ]
  },
  {
   "cell_type": "code",
   "execution_count": 67,
   "metadata": {},
   "outputs": [],
   "source": [
    "messages_user.columns = ['total_messages']"
   ]
  },
  {
   "cell_type": "code",
   "execution_count": 68,
   "metadata": {},
   "outputs": [
    {
     "data": {
      "text/html": [
       "<div>\n",
       "<style scoped>\n",
       "    .dataframe tbody tr th:only-of-type {\n",
       "        vertical-align: middle;\n",
       "    }\n",
       "\n",
       "    .dataframe tbody tr th {\n",
       "        vertical-align: top;\n",
       "    }\n",
       "\n",
       "    .dataframe thead th {\n",
       "        text-align: right;\n",
       "    }\n",
       "</style>\n",
       "<table border=\"1\" class=\"dataframe\">\n",
       "  <thead>\n",
       "    <tr style=\"text-align: right;\">\n",
       "      <th></th>\n",
       "      <th>user_id</th>\n",
       "      <th>message_month</th>\n",
       "      <th>total_messages</th>\n",
       "    </tr>\n",
       "  </thead>\n",
       "  <tbody>\n",
       "    <tr>\n",
       "      <th>0</th>\n",
       "      <td>1000</td>\n",
       "      <td>12</td>\n",
       "      <td>11</td>\n",
       "    </tr>\n",
       "    <tr>\n",
       "      <th>1</th>\n",
       "      <td>1001</td>\n",
       "      <td>8</td>\n",
       "      <td>30</td>\n",
       "    </tr>\n",
       "    <tr>\n",
       "      <th>2</th>\n",
       "      <td>1001</td>\n",
       "      <td>9</td>\n",
       "      <td>44</td>\n",
       "    </tr>\n",
       "    <tr>\n",
       "      <th>3</th>\n",
       "      <td>1001</td>\n",
       "      <td>10</td>\n",
       "      <td>53</td>\n",
       "    </tr>\n",
       "    <tr>\n",
       "      <th>4</th>\n",
       "      <td>1001</td>\n",
       "      <td>11</td>\n",
       "      <td>36</td>\n",
       "    </tr>\n",
       "    <tr>\n",
       "      <th>...</th>\n",
       "      <td>...</td>\n",
       "      <td>...</td>\n",
       "      <td>...</td>\n",
       "    </tr>\n",
       "    <tr>\n",
       "      <th>1801</th>\n",
       "      <td>1496</td>\n",
       "      <td>9</td>\n",
       "      <td>21</td>\n",
       "    </tr>\n",
       "    <tr>\n",
       "      <th>1802</th>\n",
       "      <td>1496</td>\n",
       "      <td>10</td>\n",
       "      <td>18</td>\n",
       "    </tr>\n",
       "    <tr>\n",
       "      <th>1803</th>\n",
       "      <td>1496</td>\n",
       "      <td>11</td>\n",
       "      <td>13</td>\n",
       "    </tr>\n",
       "    <tr>\n",
       "      <th>1804</th>\n",
       "      <td>1496</td>\n",
       "      <td>12</td>\n",
       "      <td>11</td>\n",
       "    </tr>\n",
       "    <tr>\n",
       "      <th>1805</th>\n",
       "      <td>1497</td>\n",
       "      <td>12</td>\n",
       "      <td>50</td>\n",
       "    </tr>\n",
       "  </tbody>\n",
       "</table>\n",
       "<p>1806 rows × 3 columns</p>\n",
       "</div>"
      ],
      "text/plain": [
       "      user_id  message_month  total_messages\n",
       "0        1000             12              11\n",
       "1        1001              8              30\n",
       "2        1001              9              44\n",
       "3        1001             10              53\n",
       "4        1001             11              36\n",
       "...       ...            ...             ...\n",
       "1801     1496              9              21\n",
       "1802     1496             10              18\n",
       "1803     1496             11              13\n",
       "1804     1496             12              11\n",
       "1805     1497             12              50\n",
       "\n",
       "[1806 rows x 3 columns]"
      ]
     },
     "metadata": {},
     "output_type": "display_data"
    }
   ],
   "source": [
    "messages_user = messages_user.reset_index()\n",
    "display(messages_user)"
   ]
  },
  {
   "cell_type": "markdown",
   "metadata": {},
   "source": [
    "Let's take a look at the summary statistics of the total messsages. "
   ]
  },
  {
   "cell_type": "code",
   "execution_count": 69,
   "metadata": {},
   "outputs": [
    {
     "data": {
      "text/plain": [
       "count    1806.000000\n",
       "mean       42.110188\n",
       "std        33.122931\n",
       "min         1.000000\n",
       "25%        17.000000\n",
       "50%        34.000000\n",
       "75%        59.000000\n",
       "max       266.000000\n",
       "Name: total_messages, dtype: float64"
      ]
     },
     "execution_count": 69,
     "metadata": {},
     "output_type": "execute_result"
    }
   ],
   "source": [
    "messages_user['total_messages'].describe()"
   ]
  },
  {
   "cell_type": "code",
   "execution_count": 70,
   "metadata": {},
   "outputs": [
    {
     "data": {
      "image/png": "[encoded data removed]",
      "text/plain": [
       "<Figure size 432x288 with 1 Axes>"
      ]
     },
     "metadata": {
      "needs_background": "light"
     },
     "output_type": "display_data"
    }
   ],
   "source": [
    "messages_user.hist('total_messages', bins = 25, grid = True, figsize = (6,4))\n",
    "plt.xlabel('Number of messages')\n",
    "plt.ylabel('Frequency')\n",
    "plt.title('Distribution of the monthly number of messages by user')\n",
    "\n",
    "plt.show() "
   ]
  },
  {
   "cell_type": "markdown",
   "metadata": {},
   "source": [
    "As shown above, there are some outliers on the right hand side. Majority of the numbers are below 50, which is below the message cap in the surf plan. "
   ]
  },
  {
   "cell_type": "markdown",
   "metadata": {},
   "source": [
    "**4.3 The volume of data per month by user**"
   ]
  },
  {
   "cell_type": "markdown",
   "metadata": {},
   "source": [
    "As the plans description requires, we will round up the monthly mb_used to gb."
   ]
  },
  {
   "cell_type": "code",
   "execution_count": 71,
   "metadata": {},
   "outputs": [],
   "source": [
    "internet_user = internet.groupby(['user_id', 'session_month']).aggregate({'mb_used': \n",
    "                                                          lambda x: np.ceil(sum(x)/1024)})"
   ]
  },
  {
   "cell_type": "code",
   "execution_count": 72,
   "metadata": {},
   "outputs": [],
   "source": [
    "internet_user.columns = ['gb_used']"
   ]
  },
  {
   "cell_type": "code",
   "execution_count": 73,
   "metadata": {},
   "outputs": [
    {
     "data": {
      "text/html": [
       "<div>\n",
       "<style scoped>\n",
       "    .dataframe tbody tr th:only-of-type {\n",
       "        vertical-align: middle;\n",
       "    }\n",
       "\n",
       "    .dataframe tbody tr th {\n",
       "        vertical-align: top;\n",
       "    }\n",
       "\n",
       "    .dataframe thead th {\n",
       "        text-align: right;\n",
       "    }\n",
       "</style>\n",
       "<table border=\"1\" class=\"dataframe\">\n",
       "  <thead>\n",
       "    <tr style=\"text-align: right;\">\n",
       "      <th></th>\n",
       "      <th>user_id</th>\n",
       "      <th>session_month</th>\n",
       "      <th>gb_used</th>\n",
       "    </tr>\n",
       "  </thead>\n",
       "  <tbody>\n",
       "    <tr>\n",
       "      <th>0</th>\n",
       "      <td>1000</td>\n",
       "      <td>12</td>\n",
       "      <td>2.0</td>\n",
       "    </tr>\n",
       "    <tr>\n",
       "      <th>1</th>\n",
       "      <td>1001</td>\n",
       "      <td>8</td>\n",
       "      <td>7.0</td>\n",
       "    </tr>\n",
       "    <tr>\n",
       "      <th>2</th>\n",
       "      <td>1001</td>\n",
       "      <td>9</td>\n",
       "      <td>14.0</td>\n",
       "    </tr>\n",
       "    <tr>\n",
       "      <th>3</th>\n",
       "      <td>1001</td>\n",
       "      <td>10</td>\n",
       "      <td>22.0</td>\n",
       "    </tr>\n",
       "    <tr>\n",
       "      <th>4</th>\n",
       "      <td>1001</td>\n",
       "      <td>11</td>\n",
       "      <td>19.0</td>\n",
       "    </tr>\n",
       "    <tr>\n",
       "      <th>...</th>\n",
       "      <td>...</td>\n",
       "      <td>...</td>\n",
       "      <td>...</td>\n",
       "    </tr>\n",
       "    <tr>\n",
       "      <th>2272</th>\n",
       "      <td>1498</td>\n",
       "      <td>12</td>\n",
       "      <td>23.0</td>\n",
       "    </tr>\n",
       "    <tr>\n",
       "      <th>2273</th>\n",
       "      <td>1499</td>\n",
       "      <td>9</td>\n",
       "      <td>13.0</td>\n",
       "    </tr>\n",
       "    <tr>\n",
       "      <th>2274</th>\n",
       "      <td>1499</td>\n",
       "      <td>10</td>\n",
       "      <td>20.0</td>\n",
       "    </tr>\n",
       "    <tr>\n",
       "      <th>2275</th>\n",
       "      <td>1499</td>\n",
       "      <td>11</td>\n",
       "      <td>17.0</td>\n",
       "    </tr>\n",
       "    <tr>\n",
       "      <th>2276</th>\n",
       "      <td>1499</td>\n",
       "      <td>12</td>\n",
       "      <td>22.0</td>\n",
       "    </tr>\n",
       "  </tbody>\n",
       "</table>\n",
       "<p>2277 rows × 3 columns</p>\n",
       "</div>"
      ],
      "text/plain": [
       "      user_id  session_month  gb_used\n",
       "0        1000             12      2.0\n",
       "1        1001              8      7.0\n",
       "2        1001              9     14.0\n",
       "3        1001             10     22.0\n",
       "4        1001             11     19.0\n",
       "...       ...            ...      ...\n",
       "2272     1498             12     23.0\n",
       "2273     1499              9     13.0\n",
       "2274     1499             10     20.0\n",
       "2275     1499             11     17.0\n",
       "2276     1499             12     22.0\n",
       "\n",
       "[2277 rows x 3 columns]"
      ]
     },
     "metadata": {},
     "output_type": "display_data"
    }
   ],
   "source": [
    "internet_user = internet_user.reset_index()\n",
    "display(internet_user)"
   ]
  },
  {
   "cell_type": "code",
   "execution_count": 74,
   "metadata": {},
   "outputs": [
    {
     "data": {
      "text/plain": [
       "count    2277.000000\n",
       "mean       16.989021\n",
       "std         7.693683\n",
       "min         1.000000\n",
       "25%        13.000000\n",
       "50%        17.000000\n",
       "75%        21.000000\n",
       "max        70.000000\n",
       "Name: gb_used, dtype: float64"
      ]
     },
     "execution_count": 74,
     "metadata": {},
     "output_type": "execute_result"
    }
   ],
   "source": [
    "internet_user['gb_used'].describe()"
   ]
  },
  {
   "cell_type": "code",
   "execution_count": 75,
   "metadata": {},
   "outputs": [
    {
     "data": {
      "image/png": "[encoded data removed]",
      "text/plain": [
       "<Figure size 432x288 with 1 Axes>"
      ]
     },
     "metadata": {
      "needs_background": "light"
     },
     "output_type": "display_data"
    }
   ],
   "source": [
    "internet_user.hist('gb_used', bins = 25, grid = True, figsize = (6,4))\n",
    "plt.xlabel('Internet volume (GB)')\n",
    "plt.ylabel('Frequency')\n",
    "plt.title('Distribution of the monthly internet usage by user')\n",
    "\n",
    "plt.show() "
   ]
  },
  {
   "cell_type": "markdown",
   "metadata": {},
   "source": [
    "As shown above, the internet usage peaks between 15-20GB, which is above the surf plan cap, and below the ultimate plan cap. \n",
    "\n",
    "The numbers and graphs above give an overall picture of how the services are used. In a later section, we will have a look at the usage by plan. "
   ]
  },
  {
   "cell_type": "markdown",
   "metadata": {},
   "source": [
    "**4.4 Calculate the monthly profit from each user** \n",
    "\n",
    "To obtain this figure, we will need to subtract the free package limit from the total number of calls, text messages, and data, and then multiply the result by the calling plan value, and add the monthly charge depending on the calling plan. "
   ]
  },
  {
   "cell_type": "markdown",
   "metadata": {},
   "source": [
    "Let's first create two 'user_id' series that contain the surf and ultimate users' id respectively. "
   ]
  },
  {
   "cell_type": "code",
   "execution_count": 76,
   "metadata": {},
   "outputs": [],
   "source": [
    "surf_user_ids = users_new.query('plan == \"surf\"')['user_id']\n",
    "ultimate_user_ids = users_new.query('plan == \"ultimate\"')['user_id']"
   ]
  },
  {
   "cell_type": "code",
   "execution_count": 77,
   "metadata": {},
   "outputs": [
    {
     "data": {
      "text/html": [
       "<div>\n",
       "<style scoped>\n",
       "    .dataframe tbody tr th:only-of-type {\n",
       "        vertical-align: middle;\n",
       "    }\n",
       "\n",
       "    .dataframe tbody tr th {\n",
       "        vertical-align: top;\n",
       "    }\n",
       "\n",
       "    .dataframe thead th {\n",
       "        text-align: right;\n",
       "    }\n",
       "</style>\n",
       "<table border=\"1\" class=\"dataframe\">\n",
       "  <thead>\n",
       "    <tr style=\"text-align: right;\">\n",
       "      <th></th>\n",
       "      <th>messages_included</th>\n",
       "      <th>mb_per_month_included</th>\n",
       "      <th>minutes_included</th>\n",
       "      <th>usd_monthly_pay</th>\n",
       "      <th>usd_per_gb</th>\n",
       "      <th>usd_per_message</th>\n",
       "      <th>usd_per_minute</th>\n",
       "      <th>plan_name</th>\n",
       "    </tr>\n",
       "  </thead>\n",
       "  <tbody>\n",
       "    <tr>\n",
       "      <th>0</th>\n",
       "      <td>50</td>\n",
       "      <td>15360</td>\n",
       "      <td>500</td>\n",
       "      <td>20</td>\n",
       "      <td>10</td>\n",
       "      <td>0.03</td>\n",
       "      <td>0.03</td>\n",
       "      <td>surf</td>\n",
       "    </tr>\n",
       "    <tr>\n",
       "      <th>1</th>\n",
       "      <td>1000</td>\n",
       "      <td>30720</td>\n",
       "      <td>3000</td>\n",
       "      <td>70</td>\n",
       "      <td>7</td>\n",
       "      <td>0.01</td>\n",
       "      <td>0.01</td>\n",
       "      <td>ultimate</td>\n",
       "    </tr>\n",
       "  </tbody>\n",
       "</table>\n",
       "</div>"
      ],
      "text/plain": [
       "   messages_included  mb_per_month_included  minutes_included  \\\n",
       "0                 50                  15360               500   \n",
       "1               1000                  30720              3000   \n",
       "\n",
       "   usd_monthly_pay  usd_per_gb  usd_per_message  usd_per_minute plan_name  \n",
       "0               20          10             0.03            0.03      surf  \n",
       "1               70           7             0.01            0.01  ultimate  "
      ]
     },
     "metadata": {},
     "output_type": "display_data"
    }
   ],
   "source": [
    "display(plans)"
   ]
  },
  {
   "cell_type": "markdown",
   "metadata": {},
   "source": [
    "Let's define the functions to apply to the row of the above summary datasets to calculate the profit for each user each month in each service category. "
   ]
  },
  {
   "cell_type": "code",
   "execution_count": 78,
   "metadata": {},
   "outputs": [],
   "source": [
    "def monthly_call_profit(row):\n",
    "    if row['user_id'] in surf_user_ids.values: \n",
    "        if row['total_minutes'] <= 500:\n",
    "            return 0\n",
    "        else: \n",
    "            profit = (row['total_minutes'] - 500) * 0.03\n",
    "            return profit\n",
    "    else: \n",
    "        if row['total_minutes'] <= 3000:\n",
    "            return 0\n",
    "        else: \n",
    "            profit = (row['total_minutes'] - 3000) * 0.01\n",
    "            return profit\n",
    "\n",
    "def monthly_message_profit(row):\n",
    "    if row['user_id'] in surf_user_ids.values: \n",
    "        if row['total_messages'] <= 50:\n",
    "            return 0\n",
    "        else: \n",
    "            profit = (row['total_messages'] - 50) * 0.03\n",
    "            return profit\n",
    "    else: \n",
    "        if row['total_messages'] <= 1000:\n",
    "            return 0\n",
    "        else: \n",
    "            profit = (row['total_messages'] - 1000) * 0.01\n",
    "            return profit\n",
    "\n",
    "\n",
    "def monthly_internet_profit(row):\n",
    "    if row['user_id'] in surf_user_ids.values: \n",
    "        if row['gb_used'] <= 15:\n",
    "            return 0\n",
    "        else: \n",
    "            profit = (row['gb_used'] - 15) * 10\n",
    "            return profit\n",
    "    else: \n",
    "        if row['gb_used'] <= 30:\n",
    "            return 0\n",
    "        else: \n",
    "            profit = (row['gb_used'] - 30) * 7\n",
    "            return profit"
   ]
  },
  {
   "cell_type": "markdown",
   "metadata": {},
   "source": [
    "Now, let's apply these functions. "
   ]
  },
  {
   "cell_type": "code",
   "execution_count": 79,
   "metadata": {},
   "outputs": [],
   "source": [
    "calls_user['calls_profit'] = calls_user.apply(monthly_call_profit, axis = 1)"
   ]
  },
  {
   "cell_type": "code",
   "execution_count": 80,
   "metadata": {},
   "outputs": [],
   "source": [
    "messages_user['messages_profit'] = messages_user.apply(monthly_message_profit, axis = 1)"
   ]
  },
  {
   "cell_type": "code",
   "execution_count": 81,
   "metadata": {},
   "outputs": [],
   "source": [
    "internet_user['internet_profit'] = internet_user.apply(monthly_internet_profit, axis = 1)"
   ]
  },
  {
   "cell_type": "markdown",
   "metadata": {},
   "source": [
    "Let's double check if the functions have applied by filtering the data by user_ids and their usage and calculating the profits. "
   ]
  },
  {
   "cell_type": "code",
   "execution_count": 82,
   "metadata": {},
   "outputs": [
    {
     "data": {
      "text/plain": [
       "0.0"
      ]
     },
     "execution_count": 82,
     "metadata": {},
     "output_type": "execute_result"
    }
   ],
   "source": [
    "calls_user[(calls_user['user_id'].isin(surf_user_ids)) & \n",
    "           (calls_user['total_minutes']< 500)]['calls_profit'].sum()"
   ]
  },
  {
   "cell_type": "code",
   "execution_count": 83,
   "metadata": {},
   "outputs": [
    {
     "data": {
      "text/plain": [
       "2900.25"
      ]
     },
     "execution_count": 83,
     "metadata": {},
     "output_type": "execute_result"
    }
   ],
   "source": [
    "calls_user[(calls_user['user_id'].isin(surf_user_ids)) & \n",
    "           (calls_user['total_minutes'] > 500)]['calls_profit'].sum()"
   ]
  },
  {
   "cell_type": "code",
   "execution_count": 84,
   "metadata": {},
   "outputs": [
    {
     "data": {
      "text/plain": [
       "0.0"
      ]
     },
     "execution_count": 84,
     "metadata": {},
     "output_type": "execute_result"
    }
   ],
   "source": [
    "messages_user[(messages_user['user_id'].isin(surf_user_ids)) & \n",
    "           (messages_user['total_messages']< 50)]['messages_profit'].sum()"
   ]
  },
  {
   "cell_type": "code",
   "execution_count": 85,
   "metadata": {},
   "outputs": [
    {
     "data": {
      "text/plain": [
       "330.93"
      ]
     },
     "execution_count": 85,
     "metadata": {},
     "output_type": "execute_result"
    }
   ],
   "source": [
    "messages_user[(messages_user['user_id'].isin(surf_user_ids)) & \n",
    "           (messages_user['total_messages'] > 50 )]['messages_profit'].sum()"
   ]
  },
  {
   "cell_type": "code",
   "execution_count": 86,
   "metadata": {},
   "outputs": [
    {
     "data": {
      "text/plain": [
       "0.0"
      ]
     },
     "execution_count": 86,
     "metadata": {},
     "output_type": "execute_result"
    }
   ],
   "source": [
    "internet_user[(internet_user['user_id'].isin(ultimate_user_ids)) & \n",
    "           (internet_user['gb_used']< 30)]['internet_profit'].sum()"
   ]
  },
  {
   "cell_type": "code",
   "execution_count": 87,
   "metadata": {},
   "outputs": [
    {
     "data": {
      "text/plain": [
       "1666.0"
      ]
     },
     "execution_count": 87,
     "metadata": {},
     "output_type": "execute_result"
    }
   ],
   "source": [
    "internet_user[(internet_user['user_id'].isin(ultimate_user_ids)) & \n",
    "           (internet_user['gb_used']> 30)]['internet_profit'].sum()"
   ]
  },
  {
   "cell_type": "markdown",
   "metadata": {},
   "source": [
    "All look good! We can move on. \n",
    "\n",
    "What we have here in the 3 datasets are the profits from each user each month in three services. The profit from each user of two different plans will be the addup of the profits from all three plus the plan cost. To calculate this, we will need to merge the datasets first by user_id and month.\n",
    "\n",
    "First, let's rename the month column in each dataset so they all have the same name. "
   ]
  },
  {
   "cell_type": "code",
   "execution_count": 88,
   "metadata": {},
   "outputs": [],
   "source": [
    "calls_user = calls_user.rename(columns = {'call_month': 'month'})"
   ]
  },
  {
   "cell_type": "code",
   "execution_count": 89,
   "metadata": {},
   "outputs": [],
   "source": [
    "messages_user = messages_user.rename(columns = {'message_month' : 'month'})"
   ]
  },
  {
   "cell_type": "code",
   "execution_count": 90,
   "metadata": {},
   "outputs": [],
   "source": [
    "internet_user = internet_user.rename(columns = {'session_month' : 'month'})"
   ]
  },
  {
   "cell_type": "markdown",
   "metadata": {},
   "source": [
    "The three datasets are of different length and their 'user_id's do not exactly match. This is understandable because we might expect some users to use only one or 2 services from the provider instead of all three, and this can vary from month to month too. Therefore when merging the data, we will set 'how' as 'outer' so we do not lose any records. "
   ]
  },
  {
   "cell_type": "code",
   "execution_count": 91,
   "metadata": {},
   "outputs": [],
   "source": [
    "profits = calls_user.merge(messages_user, on = ['user_id', 'month'], \n",
    "                 how = 'outer').merge(internet_user, on = ['user_id', 'month'], how = 'outer')"
   ]
  },
  {
   "cell_type": "markdown",
   "metadata": {},
   "source": [
    "The NaN value in this merged dataset happens because the user hasn't used that particular service in that month but has used other services. Therefore we can replace the NaN value with 0 for easy calculation. "
   ]
  },
  {
   "cell_type": "code",
   "execution_count": 92,
   "metadata": {},
   "outputs": [],
   "source": [
    "profits = profits.fillna(0)"
   ]
  },
  {
   "cell_type": "code",
   "execution_count": 93,
   "metadata": {},
   "outputs": [
    {
     "name": "stdout",
     "output_type": "stream",
     "text": [
      "<class 'pandas.core.frame.DataFrame'>\n",
      "Int64Index: 2293 entries, 0 to 2292\n",
      "Data columns (total 9 columns):\n",
      " #   Column           Non-Null Count  Dtype  \n",
      "---  ------           --------------  -----  \n",
      " 0   user_id          2293 non-null   int64  \n",
      " 1   month            2293 non-null   int64  \n",
      " 2   number_of_calls  2293 non-null   float64\n",
      " 3   total_minutes    2293 non-null   float64\n",
      " 4   calls_profit     2293 non-null   float64\n",
      " 5   total_messages   2293 non-null   float64\n",
      " 6   messages_profit  2293 non-null   float64\n",
      " 7   gb_used          2293 non-null   float64\n",
      " 8   internet_profit  2293 non-null   float64\n",
      "dtypes: float64(7), int64(2)\n",
      "memory usage: 179.1 KB\n"
     ]
    }
   ],
   "source": [
    "profits.info()"
   ]
  },
  {
   "cell_type": "markdown",
   "metadata": {},
   "source": [
    "Now let's add a total profits column to this dataset. The monthly charge for the surf plan users is 20, and for the ultimate plan users 70. We will add up the individual service profits and add the plan charge to it to get the total profits from each user each month. "
   ]
  },
  {
   "cell_type": "code",
   "execution_count": 94,
   "metadata": {},
   "outputs": [],
   "source": [
    "def total_profit(row):\n",
    "    if row['user_id'] in surf_user_ids.values:\n",
    "        total_profit = 20+row['calls_profit']+row['messages_profit']+row['internet_profit']\n",
    "        return total_profit\n",
    "    else: \n",
    "        total_profit = 70+row['calls_profit']+row['messages_profit']+row['internet_profit']\n",
    "        return total_profit   "
   ]
  },
  {
   "cell_type": "code",
   "execution_count": 95,
   "metadata": {},
   "outputs": [],
   "source": [
    "profits['total_profit'] = profits.apply(total_profit, axis = 1)"
   ]
  },
  {
   "cell_type": "code",
   "execution_count": 96,
   "metadata": {},
   "outputs": [
    {
     "data": {
      "text/html": [
       "<div>\n",
       "<style scoped>\n",
       "    .dataframe tbody tr th:only-of-type {\n",
       "        vertical-align: middle;\n",
       "    }\n",
       "\n",
       "    .dataframe tbody tr th {\n",
       "        vertical-align: top;\n",
       "    }\n",
       "\n",
       "    .dataframe thead th {\n",
       "        text-align: right;\n",
       "    }\n",
       "</style>\n",
       "<table border=\"1\" class=\"dataframe\">\n",
       "  <thead>\n",
       "    <tr style=\"text-align: right;\">\n",
       "      <th></th>\n",
       "      <th>user_id</th>\n",
       "      <th>month</th>\n",
       "      <th>number_of_calls</th>\n",
       "      <th>total_minutes</th>\n",
       "      <th>calls_profit</th>\n",
       "      <th>total_messages</th>\n",
       "      <th>messages_profit</th>\n",
       "      <th>gb_used</th>\n",
       "      <th>internet_profit</th>\n",
       "      <th>total_profit</th>\n",
       "    </tr>\n",
       "  </thead>\n",
       "  <tbody>\n",
       "    <tr>\n",
       "      <th>0</th>\n",
       "      <td>1000</td>\n",
       "      <td>12</td>\n",
       "      <td>16.0</td>\n",
       "      <td>124.0</td>\n",
       "      <td>0.00</td>\n",
       "      <td>11.0</td>\n",
       "      <td>0.00</td>\n",
       "      <td>2.0</td>\n",
       "      <td>0.0</td>\n",
       "      <td>70.00</td>\n",
       "    </tr>\n",
       "    <tr>\n",
       "      <th>1</th>\n",
       "      <td>1001</td>\n",
       "      <td>8</td>\n",
       "      <td>22.0</td>\n",
       "      <td>182.0</td>\n",
       "      <td>0.00</td>\n",
       "      <td>30.0</td>\n",
       "      <td>0.00</td>\n",
       "      <td>7.0</td>\n",
       "      <td>0.0</td>\n",
       "      <td>20.00</td>\n",
       "    </tr>\n",
       "    <tr>\n",
       "      <th>2</th>\n",
       "      <td>1001</td>\n",
       "      <td>9</td>\n",
       "      <td>38.0</td>\n",
       "      <td>315.0</td>\n",
       "      <td>0.00</td>\n",
       "      <td>44.0</td>\n",
       "      <td>0.00</td>\n",
       "      <td>14.0</td>\n",
       "      <td>0.0</td>\n",
       "      <td>20.00</td>\n",
       "    </tr>\n",
       "    <tr>\n",
       "      <th>3</th>\n",
       "      <td>1001</td>\n",
       "      <td>10</td>\n",
       "      <td>47.0</td>\n",
       "      <td>393.0</td>\n",
       "      <td>0.00</td>\n",
       "      <td>53.0</td>\n",
       "      <td>0.09</td>\n",
       "      <td>22.0</td>\n",
       "      <td>70.0</td>\n",
       "      <td>90.09</td>\n",
       "    </tr>\n",
       "    <tr>\n",
       "      <th>4</th>\n",
       "      <td>1001</td>\n",
       "      <td>11</td>\n",
       "      <td>49.0</td>\n",
       "      <td>426.0</td>\n",
       "      <td>0.00</td>\n",
       "      <td>36.0</td>\n",
       "      <td>0.00</td>\n",
       "      <td>19.0</td>\n",
       "      <td>40.0</td>\n",
       "      <td>60.00</td>\n",
       "    </tr>\n",
       "    <tr>\n",
       "      <th>5</th>\n",
       "      <td>1001</td>\n",
       "      <td>12</td>\n",
       "      <td>46.0</td>\n",
       "      <td>412.0</td>\n",
       "      <td>0.00</td>\n",
       "      <td>44.0</td>\n",
       "      <td>0.00</td>\n",
       "      <td>19.0</td>\n",
       "      <td>40.0</td>\n",
       "      <td>60.00</td>\n",
       "    </tr>\n",
       "    <tr>\n",
       "      <th>6</th>\n",
       "      <td>1002</td>\n",
       "      <td>10</td>\n",
       "      <td>8.0</td>\n",
       "      <td>59.0</td>\n",
       "      <td>0.00</td>\n",
       "      <td>15.0</td>\n",
       "      <td>0.00</td>\n",
       "      <td>7.0</td>\n",
       "      <td>0.0</td>\n",
       "      <td>20.00</td>\n",
       "    </tr>\n",
       "    <tr>\n",
       "      <th>7</th>\n",
       "      <td>1002</td>\n",
       "      <td>11</td>\n",
       "      <td>48.0</td>\n",
       "      <td>386.0</td>\n",
       "      <td>0.00</td>\n",
       "      <td>32.0</td>\n",
       "      <td>0.00</td>\n",
       "      <td>19.0</td>\n",
       "      <td>40.0</td>\n",
       "      <td>60.00</td>\n",
       "    </tr>\n",
       "    <tr>\n",
       "      <th>8</th>\n",
       "      <td>1002</td>\n",
       "      <td>12</td>\n",
       "      <td>38.0</td>\n",
       "      <td>384.0</td>\n",
       "      <td>0.00</td>\n",
       "      <td>41.0</td>\n",
       "      <td>0.00</td>\n",
       "      <td>15.0</td>\n",
       "      <td>0.0</td>\n",
       "      <td>20.00</td>\n",
       "    </tr>\n",
       "    <tr>\n",
       "      <th>9</th>\n",
       "      <td>1003</td>\n",
       "      <td>12</td>\n",
       "      <td>118.0</td>\n",
       "      <td>1104.0</td>\n",
       "      <td>18.12</td>\n",
       "      <td>50.0</td>\n",
       "      <td>0.00</td>\n",
       "      <td>27.0</td>\n",
       "      <td>120.0</td>\n",
       "      <td>158.12</td>\n",
       "    </tr>\n",
       "  </tbody>\n",
       "</table>\n",
       "</div>"
      ],
      "text/plain": [
       "   user_id  month  number_of_calls  total_minutes  calls_profit  \\\n",
       "0     1000     12             16.0          124.0          0.00   \n",
       "1     1001      8             22.0          182.0          0.00   \n",
       "2     1001      9             38.0          315.0          0.00   \n",
       "3     1001     10             47.0          393.0          0.00   \n",
       "4     1001     11             49.0          426.0          0.00   \n",
       "5     1001     12             46.0          412.0          0.00   \n",
       "6     1002     10              8.0           59.0          0.00   \n",
       "7     1002     11             48.0          386.0          0.00   \n",
       "8     1002     12             38.0          384.0          0.00   \n",
       "9     1003     12            118.0         1104.0         18.12   \n",
       "\n",
       "   total_messages  messages_profit  gb_used  internet_profit  total_profit  \n",
       "0            11.0             0.00      2.0              0.0         70.00  \n",
       "1            30.0             0.00      7.0              0.0         20.00  \n",
       "2            44.0             0.00     14.0              0.0         20.00  \n",
       "3            53.0             0.09     22.0             70.0         90.09  \n",
       "4            36.0             0.00     19.0             40.0         60.00  \n",
       "5            44.0             0.00     19.0             40.0         60.00  \n",
       "6            15.0             0.00      7.0              0.0         20.00  \n",
       "7            32.0             0.00     19.0             40.0         60.00  \n",
       "8            41.0             0.00     15.0              0.0         20.00  \n",
       "9            50.0             0.00     27.0            120.0        158.12  "
      ]
     },
     "execution_count": 96,
     "metadata": {},
     "output_type": "execute_result"
    }
   ],
   "source": [
    "profits.head(10)"
   ]
  },
  {
   "cell_type": "markdown",
   "metadata": {},
   "source": [
    "Let's separate the above to two datasets based on plan for easy plotting. "
   ]
  },
  {
   "cell_type": "code",
   "execution_count": 97,
   "metadata": {},
   "outputs": [],
   "source": [
    "surf_profits = profits.query('user_id in @surf_user_ids.values').reset_index(drop = True)\n",
    "ultimate_profits = profits.query('user_id in @ultimate_user_ids.values').reset_index(\n",
    "    drop = True)"
   ]
  },
  {
   "cell_type": "markdown",
   "metadata": {},
   "source": [
    "Now we will take a look at the length of each dataset so we have some idea of the volumne of each. "
   ]
  },
  {
   "cell_type": "code",
   "execution_count": 98,
   "metadata": {},
   "outputs": [
    {
     "data": {
      "text/plain": [
       "720"
      ]
     },
     "execution_count": 98,
     "metadata": {},
     "output_type": "execute_result"
    }
   ],
   "source": [
    "len(ultimate_profits)"
   ]
  },
  {
   "cell_type": "code",
   "execution_count": 99,
   "metadata": {},
   "outputs": [
    {
     "data": {
      "text/plain": [
       "1573"
      ]
     },
     "execution_count": 99,
     "metadata": {},
     "output_type": "execute_result"
    }
   ],
   "source": [
    "len(surf_profits)"
   ]
  },
  {
   "cell_type": "markdown",
   "metadata": {},
   "source": [
    "**4.5 Plot a histogram showing the distribution of the monthly profits from each plan**"
   ]
  },
  {
   "cell_type": "code",
   "execution_count": 100,
   "metadata": {},
   "outputs": [
    {
     "data": {
      "image/png": "[encoded data removed]",
      "text/plain": [
       "<Figure size 720x288 with 2 Axes>"
      ]
     },
     "metadata": {
      "needs_background": "light"
     },
     "output_type": "display_data"
    }
   ],
   "source": [
    "fig, (ax1,ax2) = plt.subplots(1,2, figsize=(10,4))\n",
    "surf_profits.hist('total_profit', bins = 50, grid = True, ax = ax1)\n",
    "ax1.set_xlabel('Total monthly profit by user')\n",
    "ax1.set_ylabel('Frequency')\n",
    "ax1.set_title('Surf plan users monthly profits histogram')\n",
    "\n",
    "ultimate_profits.hist('total_profit', bins = 50, grid = True, ax = ax2)\n",
    "ax2.set_xlabel('Total monthly profit by user')\n",
    "ax2.set_ylabel('Frequency')\n",
    "ax2.set_title('Ultimate plan users monthly profits histogram')\n",
    "\n",
    "plt.tight_layout() "
   ]
  },
  {
   "cell_type": "markdown",
   "metadata": {},
   "source": [
    "For both plans, most of the time the users managed to keep their usage within or at least close to what the plans provide. However, more surf plan users than ultimate plan users seem to go beyond the plan. There are also some extreme surf user outliers who paid over 200. \n",
    "\n",
    "Let's have a look at the percentage of users from each plan who go over the plan. "
   ]
  },
  {
   "cell_type": "code",
   "execution_count": 101,
   "metadata": {},
   "outputs": [
    {
     "data": {
      "text/plain": [
       "0.7260012714558169"
      ]
     },
     "execution_count": 101,
     "metadata": {},
     "output_type": "execute_result"
    }
   ],
   "source": [
    "len(surf_profits.query('total_profit > 20')) / len(surf_profits)"
   ]
  },
  {
   "cell_type": "code",
   "execution_count": 102,
   "metadata": {},
   "outputs": [
    {
     "data": {
      "text/plain": [
       "0.31150667514303876"
      ]
     },
     "execution_count": 102,
     "metadata": {},
     "output_type": "execute_result"
    }
   ],
   "source": [
    "len(surf_profits.query('total_profit > 70')) / len(surf_profits)"
   ]
  },
  {
   "cell_type": "code",
   "execution_count": 103,
   "metadata": {},
   "outputs": [
    {
     "data": {
      "text/plain": [
       "0.05694444444444444"
      ]
     },
     "execution_count": 103,
     "metadata": {},
     "output_type": "execute_result"
    }
   ],
   "source": [
    "len(ultimate_profits.query('total_profit > 70')) / len(ultimate_profits)"
   ]
  },
  {
   "cell_type": "markdown",
   "metadata": {},
   "source": [
    "It needs to be noted that the percentage here is not user percentage because each user has multiple months in the dataset. So the percentage here is usage percentage. \n",
    "\n",
    "It's interesting to see more over 72% of the surf plan usage went beyond the plan, and 31% of the usage incur a fee that is more than 70. These users would be better off going with the ultimate plan. \n",
    "\n",
    "In contrast, only slightly over 5% of the ultimate went beyond the plan coverage. "
   ]
  },
  {
   "cell_type": "markdown",
   "metadata": {},
   "source": [
    "Next, for each plan, let's calculate the monthly call minutes, number of messages, internet by user, and the profits. The purpose of this calculation is to estimate how much of each service is needed by the users of each plan. Although each user's need could vary from month to month, here we want to obtain a general picture of how the users' need is distributed, therefore we will take the median usage across the months of each user. \n",
    "\n",
    "We will also calculate the median in total profits from each user which we will use when comparing the profits from two plans later. "
   ]
  },
  {
   "cell_type": "code",
   "execution_count": 104,
   "metadata": {},
   "outputs": [],
   "source": [
    "surf_usage = surf_profits.groupby('user_id')[[\n",
    "    'total_minutes', 'total_messages', 'gb_used', 'total_profit']].median().reset_index()"
   ]
  },
  {
   "cell_type": "code",
   "execution_count": 105,
   "metadata": {},
   "outputs": [],
   "source": [
    "ultimate_usage = ultimate_profits.groupby('user_id')[[\n",
    "    'total_minutes', 'total_messages', 'gb_used', 'total_profit']].median().reset_index()"
   ]
  },
  {
   "cell_type": "code",
   "execution_count": 106,
   "metadata": {},
   "outputs": [
    {
     "data": {
      "text/html": [
       "<div>\n",
       "<style scoped>\n",
       "    .dataframe tbody tr th:only-of-type {\n",
       "        vertical-align: middle;\n",
       "    }\n",
       "\n",
       "    .dataframe tbody tr th {\n",
       "        vertical-align: top;\n",
       "    }\n",
       "\n",
       "    .dataframe thead th {\n",
       "        text-align: right;\n",
       "    }\n",
       "</style>\n",
       "<table border=\"1\" class=\"dataframe\">\n",
       "  <thead>\n",
       "    <tr style=\"text-align: right;\">\n",
       "      <th></th>\n",
       "      <th>user_id</th>\n",
       "      <th>total_minutes</th>\n",
       "      <th>total_messages</th>\n",
       "      <th>gb_used</th>\n",
       "      <th>total_profit</th>\n",
       "    </tr>\n",
       "  </thead>\n",
       "  <tbody>\n",
       "    <tr>\n",
       "      <th>0</th>\n",
       "      <td>1001</td>\n",
       "      <td>393.0</td>\n",
       "      <td>44.0</td>\n",
       "      <td>19.0</td>\n",
       "      <td>60.00</td>\n",
       "    </tr>\n",
       "    <tr>\n",
       "      <th>1</th>\n",
       "      <td>1002</td>\n",
       "      <td>384.0</td>\n",
       "      <td>32.0</td>\n",
       "      <td>15.0</td>\n",
       "      <td>20.00</td>\n",
       "    </tr>\n",
       "    <tr>\n",
       "      <th>2</th>\n",
       "      <td>1003</td>\n",
       "      <td>1104.0</td>\n",
       "      <td>50.0</td>\n",
       "      <td>27.0</td>\n",
       "      <td>158.12</td>\n",
       "    </tr>\n",
       "    <tr>\n",
       "      <th>3</th>\n",
       "      <td>1004</td>\n",
       "      <td>359.5</td>\n",
       "      <td>24.5</td>\n",
       "      <td>21.0</td>\n",
       "      <td>80.00</td>\n",
       "    </tr>\n",
       "    <tr>\n",
       "      <th>4</th>\n",
       "      <td>1005</td>\n",
       "      <td>496.0</td>\n",
       "      <td>11.0</td>\n",
       "      <td>17.0</td>\n",
       "      <td>40.00</td>\n",
       "    </tr>\n",
       "    <tr>\n",
       "      <th>...</th>\n",
       "      <td>...</td>\n",
       "      <td>...</td>\n",
       "      <td>...</td>\n",
       "      <td>...</td>\n",
       "      <td>...</td>\n",
       "    </tr>\n",
       "    <tr>\n",
       "      <th>328</th>\n",
       "      <td>1494</td>\n",
       "      <td>485.5</td>\n",
       "      <td>30.0</td>\n",
       "      <td>15.5</td>\n",
       "      <td>26.74</td>\n",
       "    </tr>\n",
       "    <tr>\n",
       "      <th>329</th>\n",
       "      <td>1495</td>\n",
       "      <td>426.5</td>\n",
       "      <td>0.0</td>\n",
       "      <td>24.5</td>\n",
       "      <td>115.00</td>\n",
       "    </tr>\n",
       "    <tr>\n",
       "      <th>330</th>\n",
       "      <td>1496</td>\n",
       "      <td>308.0</td>\n",
       "      <td>13.0</td>\n",
       "      <td>14.0</td>\n",
       "      <td>20.00</td>\n",
       "    </tr>\n",
       "    <tr>\n",
       "      <th>331</th>\n",
       "      <td>1498</td>\n",
       "      <td>288.0</td>\n",
       "      <td>0.0</td>\n",
       "      <td>20.0</td>\n",
       "      <td>70.00</td>\n",
       "    </tr>\n",
       "    <tr>\n",
       "      <th>332</th>\n",
       "      <td>1499</td>\n",
       "      <td>365.5</td>\n",
       "      <td>0.0</td>\n",
       "      <td>18.5</td>\n",
       "      <td>55.00</td>\n",
       "    </tr>\n",
       "  </tbody>\n",
       "</table>\n",
       "<p>333 rows × 5 columns</p>\n",
       "</div>"
      ],
      "text/plain": [
       "     user_id  total_minutes  total_messages  gb_used  total_profit\n",
       "0       1001          393.0            44.0     19.0         60.00\n",
       "1       1002          384.0            32.0     15.0         20.00\n",
       "2       1003         1104.0            50.0     27.0        158.12\n",
       "3       1004          359.5            24.5     21.0         80.00\n",
       "4       1005          496.0            11.0     17.0         40.00\n",
       "..       ...            ...             ...      ...           ...\n",
       "328     1494          485.5            30.0     15.5         26.74\n",
       "329     1495          426.5             0.0     24.5        115.00\n",
       "330     1496          308.0            13.0     14.0         20.00\n",
       "331     1498          288.0             0.0     20.0         70.00\n",
       "332     1499          365.5             0.0     18.5         55.00\n",
       "\n",
       "[333 rows x 5 columns]"
      ]
     },
     "metadata": {},
     "output_type": "display_data"
    }
   ],
   "source": [
    "display(surf_usage)"
   ]
  },
  {
   "cell_type": "code",
   "execution_count": 107,
   "metadata": {},
   "outputs": [
    {
     "data": {
      "text/html": [
       "<div>\n",
       "<style scoped>\n",
       "    .dataframe tbody tr th:only-of-type {\n",
       "        vertical-align: middle;\n",
       "    }\n",
       "\n",
       "    .dataframe tbody tr th {\n",
       "        vertical-align: top;\n",
       "    }\n",
       "\n",
       "    .dataframe thead th {\n",
       "        text-align: right;\n",
       "    }\n",
       "</style>\n",
       "<table border=\"1\" class=\"dataframe\">\n",
       "  <thead>\n",
       "    <tr style=\"text-align: right;\">\n",
       "      <th></th>\n",
       "      <th>user_id</th>\n",
       "      <th>total_minutes</th>\n",
       "      <th>total_messages</th>\n",
       "      <th>gb_used</th>\n",
       "      <th>total_profit</th>\n",
       "    </tr>\n",
       "  </thead>\n",
       "  <tbody>\n",
       "    <tr>\n",
       "      <th>0</th>\n",
       "      <td>1000</td>\n",
       "      <td>124.0</td>\n",
       "      <td>11.0</td>\n",
       "      <td>2.0</td>\n",
       "      <td>70.0</td>\n",
       "    </tr>\n",
       "    <tr>\n",
       "      <th>1</th>\n",
       "      <td>1006</td>\n",
       "      <td>34.5</td>\n",
       "      <td>77.0</td>\n",
       "      <td>17.5</td>\n",
       "      <td>77.0</td>\n",
       "    </tr>\n",
       "    <tr>\n",
       "      <th>2</th>\n",
       "      <td>1008</td>\n",
       "      <td>476.0</td>\n",
       "      <td>26.0</td>\n",
       "      <td>17.0</td>\n",
       "      <td>70.0</td>\n",
       "    </tr>\n",
       "    <tr>\n",
       "      <th>3</th>\n",
       "      <td>1011</td>\n",
       "      <td>486.0</td>\n",
       "      <td>58.0</td>\n",
       "      <td>21.0</td>\n",
       "      <td>70.0</td>\n",
       "    </tr>\n",
       "    <tr>\n",
       "      <th>4</th>\n",
       "      <td>1013</td>\n",
       "      <td>219.0</td>\n",
       "      <td>16.0</td>\n",
       "      <td>20.0</td>\n",
       "      <td>70.0</td>\n",
       "    </tr>\n",
       "    <tr>\n",
       "      <th>...</th>\n",
       "      <td>...</td>\n",
       "      <td>...</td>\n",
       "      <td>...</td>\n",
       "      <td>...</td>\n",
       "      <td>...</td>\n",
       "    </tr>\n",
       "    <tr>\n",
       "      <th>152</th>\n",
       "      <td>1482</td>\n",
       "      <td>56.0</td>\n",
       "      <td>5.0</td>\n",
       "      <td>1.0</td>\n",
       "      <td>70.0</td>\n",
       "    </tr>\n",
       "    <tr>\n",
       "      <th>153</th>\n",
       "      <td>1487</td>\n",
       "      <td>416.0</td>\n",
       "      <td>66.0</td>\n",
       "      <td>14.0</td>\n",
       "      <td>70.0</td>\n",
       "    </tr>\n",
       "    <tr>\n",
       "      <th>154</th>\n",
       "      <td>1490</td>\n",
       "      <td>408.0</td>\n",
       "      <td>0.0</td>\n",
       "      <td>36.5</td>\n",
       "      <td>115.5</td>\n",
       "    </tr>\n",
       "    <tr>\n",
       "      <th>155</th>\n",
       "      <td>1493</td>\n",
       "      <td>473.0</td>\n",
       "      <td>0.0</td>\n",
       "      <td>15.0</td>\n",
       "      <td>70.0</td>\n",
       "    </tr>\n",
       "    <tr>\n",
       "      <th>156</th>\n",
       "      <td>1497</td>\n",
       "      <td>300.0</td>\n",
       "      <td>50.0</td>\n",
       "      <td>11.0</td>\n",
       "      <td>70.0</td>\n",
       "    </tr>\n",
       "  </tbody>\n",
       "</table>\n",
       "<p>157 rows × 5 columns</p>\n",
       "</div>"
      ],
      "text/plain": [
       "     user_id  total_minutes  total_messages  gb_used  total_profit\n",
       "0       1000          124.0            11.0      2.0          70.0\n",
       "1       1006           34.5            77.0     17.5          77.0\n",
       "2       1008          476.0            26.0     17.0          70.0\n",
       "3       1011          486.0            58.0     21.0          70.0\n",
       "4       1013          219.0            16.0     20.0          70.0\n",
       "..       ...            ...             ...      ...           ...\n",
       "152     1482           56.0             5.0      1.0          70.0\n",
       "153     1487          416.0            66.0     14.0          70.0\n",
       "154     1490          408.0             0.0     36.5         115.5\n",
       "155     1493          473.0             0.0     15.0          70.0\n",
       "156     1497          300.0            50.0     11.0          70.0\n",
       "\n",
       "[157 rows x 5 columns]"
      ]
     },
     "metadata": {},
     "output_type": "display_data"
    }
   ],
   "source": [
    "display(ultimate_usage)"
   ]
  },
  {
   "cell_type": "markdown",
   "metadata": {},
   "source": [
    "While we are here, let's add user's age_group and city to both datasets as well for later use."
   ]
  },
  {
   "cell_type": "code",
   "execution_count": 108,
   "metadata": {},
   "outputs": [
    {
     "data": {
      "text/html": [
       "<div>\n",
       "<style scoped>\n",
       "    .dataframe tbody tr th:only-of-type {\n",
       "        vertical-align: middle;\n",
       "    }\n",
       "\n",
       "    .dataframe tbody tr th {\n",
       "        vertical-align: top;\n",
       "    }\n",
       "\n",
       "    .dataframe thead th {\n",
       "        text-align: right;\n",
       "    }\n",
       "</style>\n",
       "<table border=\"1\" class=\"dataframe\">\n",
       "  <thead>\n",
       "    <tr style=\"text-align: right;\">\n",
       "      <th></th>\n",
       "      <th>user_id</th>\n",
       "      <th>age_group</th>\n",
       "      <th>city</th>\n",
       "    </tr>\n",
       "  </thead>\n",
       "  <tbody>\n",
       "    <tr>\n",
       "      <th>0</th>\n",
       "      <td>1000</td>\n",
       "      <td>45-54</td>\n",
       "      <td>Atlanta-Sandy Springs-Roswell, GA MSA</td>\n",
       "    </tr>\n",
       "    <tr>\n",
       "      <th>1</th>\n",
       "      <td>1001</td>\n",
       "      <td>18-34</td>\n",
       "      <td>Seattle-Tacoma-Bellevue, WA MSA</td>\n",
       "    </tr>\n",
       "    <tr>\n",
       "      <th>2</th>\n",
       "      <td>1002</td>\n",
       "      <td>35-44</td>\n",
       "      <td>Las Vegas-Henderson-Paradise, NV MSA</td>\n",
       "    </tr>\n",
       "    <tr>\n",
       "      <th>3</th>\n",
       "      <td>1003</td>\n",
       "      <td>45-54</td>\n",
       "      <td>Tulsa, OK MSA</td>\n",
       "    </tr>\n",
       "    <tr>\n",
       "      <th>4</th>\n",
       "      <td>1004</td>\n",
       "      <td>35-44</td>\n",
       "      <td>Seattle-Tacoma-Bellevue, WA MSA</td>\n",
       "    </tr>\n",
       "    <tr>\n",
       "      <th>...</th>\n",
       "      <td>...</td>\n",
       "      <td>...</td>\n",
       "      <td>...</td>\n",
       "    </tr>\n",
       "    <tr>\n",
       "      <th>495</th>\n",
       "      <td>1495</td>\n",
       "      <td>above 65</td>\n",
       "      <td>New York-Newark-Jersey City, NY-NJ-PA MSA</td>\n",
       "    </tr>\n",
       "    <tr>\n",
       "      <th>496</th>\n",
       "      <td>1496</td>\n",
       "      <td>45-54</td>\n",
       "      <td>New Orleans-Metairie, LA MSA</td>\n",
       "    </tr>\n",
       "    <tr>\n",
       "      <th>497</th>\n",
       "      <td>1497</td>\n",
       "      <td>45-54</td>\n",
       "      <td>Los Angeles-Long Beach-Anaheim, CA MSA</td>\n",
       "    </tr>\n",
       "    <tr>\n",
       "      <th>498</th>\n",
       "      <td>1498</td>\n",
       "      <td>45-54</td>\n",
       "      <td>New York-Newark-Jersey City, NY-NJ-PA MSA</td>\n",
       "    </tr>\n",
       "    <tr>\n",
       "      <th>499</th>\n",
       "      <td>1499</td>\n",
       "      <td>35-44</td>\n",
       "      <td>Orlando-Kissimmee-Sanford, FL MSA</td>\n",
       "    </tr>\n",
       "  </tbody>\n",
       "</table>\n",
       "<p>500 rows × 3 columns</p>\n",
       "</div>"
      ],
      "text/plain": [
       "     user_id age_group                                       city\n",
       "0       1000     45-54      Atlanta-Sandy Springs-Roswell, GA MSA\n",
       "1       1001     18-34            Seattle-Tacoma-Bellevue, WA MSA\n",
       "2       1002     35-44       Las Vegas-Henderson-Paradise, NV MSA\n",
       "3       1003     45-54                              Tulsa, OK MSA\n",
       "4       1004     35-44            Seattle-Tacoma-Bellevue, WA MSA\n",
       "..       ...       ...                                        ...\n",
       "495     1495  above 65  New York-Newark-Jersey City, NY-NJ-PA MSA\n",
       "496     1496     45-54               New Orleans-Metairie, LA MSA\n",
       "497     1497     45-54     Los Angeles-Long Beach-Anaheim, CA MSA\n",
       "498     1498     45-54  New York-Newark-Jersey City, NY-NJ-PA MSA\n",
       "499     1499     35-44          Orlando-Kissimmee-Sanford, FL MSA\n",
       "\n",
       "[500 rows x 3 columns]"
      ]
     },
     "execution_count": 108,
     "metadata": {},
     "output_type": "execute_result"
    }
   ],
   "source": [
    "users_age_group = users_new[['user_id', 'age_group', 'city']]\n",
    "users_age_group"
   ]
  },
  {
   "cell_type": "code",
   "execution_count": 109,
   "metadata": {},
   "outputs": [],
   "source": [
    "surf_usage = surf_usage.merge(users_age_group, how = 'left', on = 'user_id')"
   ]
  },
  {
   "cell_type": "code",
   "execution_count": 110,
   "metadata": {},
   "outputs": [],
   "source": [
    "ultimate_usage = ultimate_usage.merge(users_age_group, how = 'left', on = 'user_id')"
   ]
  },
  {
   "cell_type": "markdown",
   "metadata": {},
   "source": [
    "We will also combine the two and create a total_usage dataset. Having the complete dataset and also the separate dataset by plan will be handy when we plot the data."
   ]
  },
  {
   "cell_type": "code",
   "execution_count": 111,
   "metadata": {},
   "outputs": [],
   "source": [
    "surf_usage['plan'] = \"surf\"\n",
    "ultimate_usage['plan'] = 'ultimate'"
   ]
  },
  {
   "cell_type": "code",
   "execution_count": 112,
   "metadata": {},
   "outputs": [],
   "source": [
    "total_usage = pd.concat([surf_usage, ultimate_usage]).reset_index(drop = True)"
   ]
  },
  {
   "cell_type": "code",
   "execution_count": 113,
   "metadata": {},
   "outputs": [
    {
     "data": {
      "text/html": [
       "<div>\n",
       "<style scoped>\n",
       "    .dataframe tbody tr th:only-of-type {\n",
       "        vertical-align: middle;\n",
       "    }\n",
       "\n",
       "    .dataframe tbody tr th {\n",
       "        vertical-align: top;\n",
       "    }\n",
       "\n",
       "    .dataframe thead th {\n",
       "        text-align: right;\n",
       "    }\n",
       "</style>\n",
       "<table border=\"1\" class=\"dataframe\">\n",
       "  <thead>\n",
       "    <tr style=\"text-align: right;\">\n",
       "      <th></th>\n",
       "      <th>user_id</th>\n",
       "      <th>total_minutes</th>\n",
       "      <th>total_messages</th>\n",
       "      <th>gb_used</th>\n",
       "      <th>total_profit</th>\n",
       "      <th>age_group</th>\n",
       "      <th>city</th>\n",
       "      <th>plan</th>\n",
       "    </tr>\n",
       "  </thead>\n",
       "  <tbody>\n",
       "    <tr>\n",
       "      <th>0</th>\n",
       "      <td>1001</td>\n",
       "      <td>393.0</td>\n",
       "      <td>44.0</td>\n",
       "      <td>19.0</td>\n",
       "      <td>60.00</td>\n",
       "      <td>18-34</td>\n",
       "      <td>Seattle-Tacoma-Bellevue, WA MSA</td>\n",
       "      <td>surf</td>\n",
       "    </tr>\n",
       "    <tr>\n",
       "      <th>1</th>\n",
       "      <td>1002</td>\n",
       "      <td>384.0</td>\n",
       "      <td>32.0</td>\n",
       "      <td>15.0</td>\n",
       "      <td>20.00</td>\n",
       "      <td>35-44</td>\n",
       "      <td>Las Vegas-Henderson-Paradise, NV MSA</td>\n",
       "      <td>surf</td>\n",
       "    </tr>\n",
       "    <tr>\n",
       "      <th>2</th>\n",
       "      <td>1003</td>\n",
       "      <td>1104.0</td>\n",
       "      <td>50.0</td>\n",
       "      <td>27.0</td>\n",
       "      <td>158.12</td>\n",
       "      <td>45-54</td>\n",
       "      <td>Tulsa, OK MSA</td>\n",
       "      <td>surf</td>\n",
       "    </tr>\n",
       "    <tr>\n",
       "      <th>3</th>\n",
       "      <td>1004</td>\n",
       "      <td>359.5</td>\n",
       "      <td>24.5</td>\n",
       "      <td>21.0</td>\n",
       "      <td>80.00</td>\n",
       "      <td>35-44</td>\n",
       "      <td>Seattle-Tacoma-Bellevue, WA MSA</td>\n",
       "      <td>surf</td>\n",
       "    </tr>\n",
       "    <tr>\n",
       "      <th>4</th>\n",
       "      <td>1005</td>\n",
       "      <td>496.0</td>\n",
       "      <td>11.0</td>\n",
       "      <td>17.0</td>\n",
       "      <td>40.00</td>\n",
       "      <td>18-34</td>\n",
       "      <td>Dallas-Fort Worth-Arlington, TX MSA</td>\n",
       "      <td>surf</td>\n",
       "    </tr>\n",
       "  </tbody>\n",
       "</table>\n",
       "</div>"
      ],
      "text/plain": [
       "   user_id  total_minutes  total_messages  gb_used  total_profit age_group  \\\n",
       "0     1001          393.0            44.0     19.0         60.00     18-34   \n",
       "1     1002          384.0            32.0     15.0         20.00     35-44   \n",
       "2     1003         1104.0            50.0     27.0        158.12     45-54   \n",
       "3     1004          359.5            24.5     21.0         80.00     35-44   \n",
       "4     1005          496.0            11.0     17.0         40.00     18-34   \n",
       "\n",
       "                                   city  plan  \n",
       "0       Seattle-Tacoma-Bellevue, WA MSA  surf  \n",
       "1  Las Vegas-Henderson-Paradise, NV MSA  surf  \n",
       "2                         Tulsa, OK MSA  surf  \n",
       "3       Seattle-Tacoma-Bellevue, WA MSA  surf  \n",
       "4   Dallas-Fort Worth-Arlington, TX MSA  surf  "
      ]
     },
     "execution_count": 113,
     "metadata": {},
     "output_type": "execute_result"
    }
   ],
   "source": [
    "total_usage.head()"
   ]
  },
  {
   "cell_type": "markdown",
   "metadata": {},
   "source": [
    "**4.6 Plot the distribution of the monthly usage by user of the calling service**"
   ]
  },
  {
   "cell_type": "code",
   "execution_count": 114,
   "metadata": {},
   "outputs": [
    {
     "data": {
      "image/png": "[encoded data removed]",
      "text/plain": [
       "<Figure size 720x288 with 2 Axes>"
      ]
     },
     "metadata": {
      "needs_background": "light"
     },
     "output_type": "display_data"
    }
   ],
   "source": [
    "fig, (ax1,ax2) = plt.subplots(1,2, figsize=(10,4))\n",
    "surf_usage['total_minutes'].plot(kind = 'hist', bins = 20, grid = True, ax = ax1)\n",
    "ax1.set_xlabel('Montly minutes')\n",
    "ax1.set_ylabel('Frequency')\n",
    "ax1.set_title('Surf plan users monthly minutes histogram')\n",
    "\n",
    "ultimate_usage['total_minutes'].plot(kind = 'hist', bins = 20, grid = True, ax = ax2)\n",
    "ax2.set_xlabel('Monthly minutes')\n",
    "ax2.set_ylabel('Frequency')\n",
    "ax2.set_title('Ultimate plan users monthly minutes histogram')\n",
    "\n",
    "plt.tight_layout() "
   ]
  },
  {
   "cell_type": "markdown",
   "metadata": {},
   "source": [
    "The above histograms show the for surf users, the minutes needed per month centre around 300 - 600 minutes, part of which goes over the 500 minutes allowed in the plan. \n",
    "\n",
    "Ultimate users show a similar pattern in their monthly calling minutes, however, given their plan caps at 3000, none went over the limit. \n",
    "\n",
    "As histograms are affected by the number of bins we assign, let's also take a look at the violin plots for the monthly minutes."
   ]
  },
  {
   "cell_type": "code",
   "execution_count": 115,
   "metadata": {},
   "outputs": [
    {
     "data": {
      "image/png": "[encoded data removed]",
      "text/plain": [
       "<Figure size 432x288 with 1 Axes>"
      ]
     },
     "metadata": {
      "needs_background": "light"
     },
     "output_type": "display_data"
    }
   ],
   "source": [
    "sns.violinplot(x = 'plan', y = 'total_minutes', data = total_usage)\n",
    "plt.title(\"Violinplots of monthly minutes by surf and ultimate users\")\n",
    "plt.xlabel('Megaline Plans')\n",
    "plt.ylabel('Minutes used per month')\n",
    "plt.show()"
   ]
  },
  {
   "cell_type": "code",
   "execution_count": 116,
   "metadata": {},
   "outputs": [
    {
     "data": {
      "text/plain": [
       "count     333.000000\n",
       "mean      429.318318\n",
       "std       211.127312\n",
       "min         0.000000\n",
       "25%       294.000000\n",
       "50%       423.000000\n",
       "75%       569.000000\n",
       "max      1119.000000\n",
       "Name: total_minutes, dtype: float64"
      ]
     },
     "execution_count": 116,
     "metadata": {},
     "output_type": "execute_result"
    }
   ],
   "source": [
    "surf_usage['total_minutes'].describe()"
   ]
  },
  {
   "cell_type": "code",
   "execution_count": 117,
   "metadata": {},
   "outputs": [
    {
     "data": {
      "text/plain": [
       "count     157.000000\n",
       "mean      422.710191\n",
       "std       215.652425\n",
       "min         0.000000\n",
       "25%       281.500000\n",
       "50%       430.000000\n",
       "75%       528.000000\n",
       "max      1215.000000\n",
       "Name: total_minutes, dtype: float64"
      ]
     },
     "execution_count": 117,
     "metadata": {},
     "output_type": "execute_result"
    }
   ],
   "source": [
    "ultimate_usage['total_minutes'].describe()"
   ]
  },
  {
   "cell_type": "markdown",
   "metadata": {},
   "source": [
    "Both the violin plots and the summary statistics above show that surf users and ultimate users exhibit a similar pattern in terms of how many calling minutes they've used, with the mean of approximately 429 and 422 minutes, median of 423 and 430 minutes, respectively. The dispersion of the minutes is also very similar. "
   ]
  },
  {
   "cell_type": "markdown",
   "metadata": {},
   "source": [
    "**4.7 Plot the monthly message usage**"
   ]
  },
  {
   "cell_type": "code",
   "execution_count": 118,
   "metadata": {},
   "outputs": [
    {
     "data": {
      "image/png": "[encoded data removed]",
      "text/plain": [
       "<Figure size 720x288 with 2 Axes>"
      ]
     },
     "metadata": {
      "needs_background": "light"
     },
     "output_type": "display_data"
    }
   ],
   "source": [
    "fig, (ax1,ax2) = plt.subplots(1,2, figsize=(10,4))\n",
    "surf_usage['total_messages'].plot(kind = 'hist', bins = 15, grid = True, ax = ax1)\n",
    "ax1.set_xlabel('Montly messages')\n",
    "ax1.set_ylabel('Frequency')\n",
    "ax1.set_title('Surf plan users monthly messages histogram')\n",
    "\n",
    "ultimate_usage['total_messages'].plot(kind = 'hist', bins = 15, grid = True, ax = ax2)\n",
    "ax2.set_xlabel('Monthly messages')\n",
    "ax2.set_ylabel('Frequency')\n",
    "ax2.set_title('Ultimate plan users monthly messages histogram')\n",
    "\n",
    "plt.tight_layout() "
   ]
  },
  {
   "cell_type": "code",
   "execution_count": 119,
   "metadata": {},
   "outputs": [
    {
     "data": {
      "image/png": "[encoded data removed]",
      "text/plain": [
       "<Figure size 432x288 with 1 Axes>"
      ]
     },
     "metadata": {
      "needs_background": "light"
     },
     "output_type": "display_data"
    }
   ],
   "source": [
    "sns.violinplot(x = 'plan', y = 'total_messages', data = total_usage)\n",
    "plt.title(\"Violinplots of monthly messages by surf and ultimate users\")\n",
    "plt.xlabel('Megaline Plans')\n",
    "plt.ylabel('messages sent per month')\n",
    "plt.show()"
   ]
  },
  {
   "cell_type": "code",
   "execution_count": 120,
   "metadata": {},
   "outputs": [
    {
     "data": {
      "text/plain": [
       "count    333.000000\n",
       "mean      33.984985\n",
       "std       32.704520\n",
       "min        0.000000\n",
       "25%        7.000000\n",
       "50%       28.000000\n",
       "75%       50.000000\n",
       "max      168.500000\n",
       "Name: total_messages, dtype: float64"
      ]
     },
     "execution_count": 120,
     "metadata": {},
     "output_type": "execute_result"
    }
   ],
   "source": [
    "surf_usage['total_messages'].describe()"
   ]
  },
  {
   "cell_type": "code",
   "execution_count": 121,
   "metadata": {},
   "outputs": [
    {
     "data": {
      "text/plain": [
       "count    157.000000\n",
       "mean      40.353503\n",
       "std       35.193661\n",
       "min        0.000000\n",
       "25%       11.000000\n",
       "50%       34.000000\n",
       "75%       64.000000\n",
       "max      150.000000\n",
       "Name: total_messages, dtype: float64"
      ]
     },
     "execution_count": 121,
     "metadata": {},
     "output_type": "execute_result"
    }
   ],
   "source": [
    "ultimate_usage['total_messages'].describe()"
   ]
  },
  {
   "cell_type": "markdown",
   "metadata": {},
   "source": [
    "The plots and summary statistics show that users overall did pretty well in keeping the number of messages sent below the plan cap, which is 50 for surf users, and 1000 for ultimate users. 25% of the surf users went beyond the limit, whereas, given the high cap number, none of the ultimate users went beyond their plan. \n",
    "\n",
    "Users of both plan show similar patterns in their use of the messages function, with a mean approximately 33 and 40, and a median of 38 and 34 messages, for surf and ultimate users respectively. The dispersion of the number is also very similar across the two groups. "
   ]
  },
  {
   "cell_type": "markdown",
   "metadata": {},
   "source": [
    "**4.8 Plot the monthly internet usage**"
   ]
  },
  {
   "cell_type": "code",
   "execution_count": 122,
   "metadata": {},
   "outputs": [
    {
     "data": {
      "image/png": "[encoded data removed]",
      "text/plain": [
       "<Figure size 720x288 with 2 Axes>"
      ]
     },
     "metadata": {
      "needs_background": "light"
     },
     "output_type": "display_data"
    }
   ],
   "source": [
    "fig, (ax1,ax2) = plt.subplots(1,2, figsize=(10,4))\n",
    "surf_usage['gb_used'].plot(kind = 'hist', bins = 20, grid = True, ax = ax1)\n",
    "ax1.set_xlabel('Montly GB used')\n",
    "ax1.set_ylabel('Frequency')\n",
    "ax1.set_title('Surf plan users monthly internet usage histogram')\n",
    "\n",
    "ultimate_usage['gb_used'].plot(kind = 'hist', bins = 20, grid = True, ax = ax2)\n",
    "ax2.set_xlabel('Monthly GB used')\n",
    "ax2.set_ylabel('Frequency')\n",
    "ax2.set_title('Ultimate plan users monthly internet usage histogram')\n",
    "\n",
    "plt.tight_layout() "
   ]
  },
  {
   "cell_type": "code",
   "execution_count": 123,
   "metadata": {},
   "outputs": [
    {
     "data": {
      "image/png": "[encoded data removed]",
      "text/plain": [
       "<Figure size 432x288 with 1 Axes>"
      ]
     },
     "metadata": {
      "needs_background": "light"
     },
     "output_type": "display_data"
    }
   ],
   "source": [
    "sns.violinplot(x = 'plan', y = 'gb_used', data = total_usage)\n",
    "plt.title(\"Violinplots of monthly internet usage by surf and ultimate users\")\n",
    "plt.xlabel('Megaline Plans')\n",
    "plt.ylabel('internet usage per month (GB)')\n",
    "plt.show()"
   ]
  },
  {
   "cell_type": "code",
   "execution_count": 124,
   "metadata": {},
   "outputs": [
    {
     "data": {
      "text/plain": [
       "count    333.000000\n",
       "mean      16.534535\n",
       "std        6.403442\n",
       "min        0.000000\n",
       "25%       13.500000\n",
       "50%       17.000000\n",
       "75%       20.000000\n",
       "max       44.000000\n",
       "Name: gb_used, dtype: float64"
      ]
     },
     "execution_count": 124,
     "metadata": {},
     "output_type": "execute_result"
    }
   ],
   "source": [
    "surf_usage['gb_used'].describe()"
   ]
  },
  {
   "cell_type": "code",
   "execution_count": 125,
   "metadata": {},
   "outputs": [
    {
     "data": {
      "text/plain": [
       "count    157.000000\n",
       "mean      16.732484\n",
       "std        6.453365\n",
       "min        1.000000\n",
       "25%       13.000000\n",
       "50%       16.500000\n",
       "75%       20.000000\n",
       "max       38.000000\n",
       "Name: gb_used, dtype: float64"
      ]
     },
     "execution_count": 125,
     "metadata": {},
     "output_type": "execute_result"
    }
   ],
   "source": [
    "ultimate_usage['gb_used'].describe()"
   ]
  },
  {
   "cell_type": "markdown",
   "metadata": {},
   "source": [
    "As seen from the plots and summary statistics, the distribution of the internet use is very similar across the two groups, with almost the same mean, median and standard deviation. \n",
    "\n",
    "However, given the plan cap for surf users is 15, and 30 for ultimate users, a lot more surf users than ultimate users went beyond their plan limit. \n",
    "\n",
    "Given the information above, we might suspect internet could be the biggest source of profits compared from other two services. So let's have a look. "
   ]
  },
  {
   "cell_type": "code",
   "execution_count": 126,
   "metadata": {},
   "outputs": [
    {
     "data": {
      "text/html": [
       "<div>\n",
       "<style scoped>\n",
       "    .dataframe tbody tr th:only-of-type {\n",
       "        vertical-align: middle;\n",
       "    }\n",
       "\n",
       "    .dataframe tbody tr th {\n",
       "        vertical-align: top;\n",
       "    }\n",
       "\n",
       "    .dataframe thead th {\n",
       "        text-align: right;\n",
       "    }\n",
       "</style>\n",
       "<table border=\"1\" class=\"dataframe\">\n",
       "  <thead>\n",
       "    <tr style=\"text-align: right;\">\n",
       "      <th></th>\n",
       "      <th>user_id</th>\n",
       "      <th>month</th>\n",
       "      <th>number_of_calls</th>\n",
       "      <th>total_minutes</th>\n",
       "      <th>calls_profit</th>\n",
       "      <th>total_messages</th>\n",
       "      <th>messages_profit</th>\n",
       "      <th>gb_used</th>\n",
       "      <th>internet_profit</th>\n",
       "      <th>total_profit</th>\n",
       "    </tr>\n",
       "  </thead>\n",
       "  <tbody>\n",
       "    <tr>\n",
       "      <th>0</th>\n",
       "      <td>1001</td>\n",
       "      <td>8</td>\n",
       "      <td>22.0</td>\n",
       "      <td>182.0</td>\n",
       "      <td>0.0</td>\n",
       "      <td>30.0</td>\n",
       "      <td>0.00</td>\n",
       "      <td>7.0</td>\n",
       "      <td>0.0</td>\n",
       "      <td>20.00</td>\n",
       "    </tr>\n",
       "    <tr>\n",
       "      <th>1</th>\n",
       "      <td>1001</td>\n",
       "      <td>9</td>\n",
       "      <td>38.0</td>\n",
       "      <td>315.0</td>\n",
       "      <td>0.0</td>\n",
       "      <td>44.0</td>\n",
       "      <td>0.00</td>\n",
       "      <td>14.0</td>\n",
       "      <td>0.0</td>\n",
       "      <td>20.00</td>\n",
       "    </tr>\n",
       "    <tr>\n",
       "      <th>2</th>\n",
       "      <td>1001</td>\n",
       "      <td>10</td>\n",
       "      <td>47.0</td>\n",
       "      <td>393.0</td>\n",
       "      <td>0.0</td>\n",
       "      <td>53.0</td>\n",
       "      <td>0.09</td>\n",
       "      <td>22.0</td>\n",
       "      <td>70.0</td>\n",
       "      <td>90.09</td>\n",
       "    </tr>\n",
       "    <tr>\n",
       "      <th>3</th>\n",
       "      <td>1001</td>\n",
       "      <td>11</td>\n",
       "      <td>49.0</td>\n",
       "      <td>426.0</td>\n",
       "      <td>0.0</td>\n",
       "      <td>36.0</td>\n",
       "      <td>0.00</td>\n",
       "      <td>19.0</td>\n",
       "      <td>40.0</td>\n",
       "      <td>60.00</td>\n",
       "    </tr>\n",
       "    <tr>\n",
       "      <th>4</th>\n",
       "      <td>1001</td>\n",
       "      <td>12</td>\n",
       "      <td>46.0</td>\n",
       "      <td>412.0</td>\n",
       "      <td>0.0</td>\n",
       "      <td>44.0</td>\n",
       "      <td>0.00</td>\n",
       "      <td>19.0</td>\n",
       "      <td>40.0</td>\n",
       "      <td>60.00</td>\n",
       "    </tr>\n",
       "  </tbody>\n",
       "</table>\n",
       "</div>"
      ],
      "text/plain": [
       "   user_id  month  number_of_calls  total_minutes  calls_profit  \\\n",
       "0     1001      8             22.0          182.0           0.0   \n",
       "1     1001      9             38.0          315.0           0.0   \n",
       "2     1001     10             47.0          393.0           0.0   \n",
       "3     1001     11             49.0          426.0           0.0   \n",
       "4     1001     12             46.0          412.0           0.0   \n",
       "\n",
       "   total_messages  messages_profit  gb_used  internet_profit  total_profit  \n",
       "0            30.0             0.00      7.0              0.0         20.00  \n",
       "1            44.0             0.00     14.0              0.0         20.00  \n",
       "2            53.0             0.09     22.0             70.0         90.09  \n",
       "3            36.0             0.00     19.0             40.0         60.00  \n",
       "4            44.0             0.00     19.0             40.0         60.00  "
      ]
     },
     "execution_count": 126,
     "metadata": {},
     "output_type": "execute_result"
    }
   ],
   "source": [
    "surf_profits.head()"
   ]
  },
  {
   "cell_type": "code",
   "execution_count": 127,
   "metadata": {},
   "outputs": [
    {
     "name": "stdout",
     "output_type": "stream",
     "text": [
      "Surf plan profits from calls: 2900.25\n",
      "Surf plan profits from messages: 330.92999999999995\n",
      "Surf plan profits from internet: 60800.0\n",
      "Percentage of internet profit for the Ultimate plan: 0.6367080184787748\n",
      "Ultimate plan profits from calls: 0.0\n",
      "Ultimate plan profits from messages: 0.0\n",
      "Ultimate plan profits from internet: 1666.0\n",
      "Percentage of internet profit for the Ultimate plan: 0.03199784888410863\n"
     ]
    }
   ],
   "source": [
    "print('Surf plan profits from calls:', surf_profits['calls_profit'].sum())\n",
    "print('Surf plan profits from messages:', surf_profits['messages_profit'].sum())\n",
    "print('Surf plan profits from internet:', surf_profits['internet_profit'].sum())\n",
    "\n",
    "print('Percentage of internet profit for the Ultimate plan:', \n",
    "      surf_profits['internet_profit'].sum() / surf_profits['total_profit'].sum())\n",
    "\n",
    "print('Ultimate plan profits from calls:', ultimate_profits['calls_profit'].sum())\n",
    "print('Ultimate plan profits from messages:', ultimate_profits['messages_profit'].sum())\n",
    "print('Ultimate plan profits from internet:', ultimate_profits['internet_profit'].sum())\n",
    "\n",
    "print('Percentage of internet profit for the Ultimate plan:', \n",
    "      ultimate_profits['internet_profit'].sum() / ultimate_profits['total_profit'].sum())"
   ]
  },
  {
   "cell_type": "markdown",
   "metadata": {},
   "source": [
    "Yes indeed! The additional profits from the internet is as high as 60610, which represents over 60% of the plan profits. \n",
    "\n",
    "The additional profits for the ultimate plan comes entirely from the internet usage. Given the plan fee is high itself, the additional internet profits represens approximately 3% of the total profits. "
   ]
  },
  {
   "cell_type": "markdown",
   "metadata": {},
   "source": [
    "**4.9 Age group and usage**"
   ]
  },
  {
   "cell_type": "markdown",
   "metadata": {},
   "source": [
    "It would also be interesting to see how different age groups might use the services differently and contribute to the total profits. Let's make some plots to show that. "
   ]
  },
  {
   "cell_type": "code",
   "execution_count": 128,
   "metadata": {},
   "outputs": [
    {
     "data": {
      "image/png": "[encoded data removed]",
      "text/plain": [
       "<Figure size 720x432 with 4 Axes>"
      ]
     },
     "metadata": {
      "needs_background": "light"
     },
     "output_type": "display_data"
    }
   ],
   "source": [
    "fig, ((ax1,ax2), (ax3, ax4)) = plt.subplots(2,2, figsize=(10,6), sharex = True)\n",
    "total_usage.groupby('age_group')['total_minutes'].median().plot(kind = 'bar', ax = ax1)\n",
    "ax1.set_title('Median of calling minutes by age group')\n",
    "ax1.set_ylabel('frequency')\n",
    "\n",
    "total_usage.groupby('age_group')['total_messages'].median().plot(kind = 'bar', ax = ax2)\n",
    "ax2.set_title('Median of messages by age group')\n",
    "ax2.set_ylabel('frequency')\n",
    "\n",
    "total_usage.groupby('age_group')['gb_used'].median().plot(kind = 'bar', ax = ax3)\n",
    "ax3.set_title('Median of internet use by age group (gb)')\n",
    "ax3.set_ylabel('frequency')\n",
    "ax3.set_xticklabels(ax3.get_xticklabels(), rotation= 45)\n",
    "ax3.set_xlabel('Age groups')\n",
    "\n",
    "total_usage.groupby('age_group')['total_profit'].median().plot(kind = 'bar', ax = ax4)\n",
    "ax4.set_title('Median of profit from user by age group')\n",
    "ax4.set_ylabel('frequency')\n",
    "ax4.set_xticklabels(ax4.get_xticklabels(), rotation= 45)\n",
    "ax4.set_xlabel('Age groups')\n",
    "\n",
    "plt.tight_layout() "
   ]
  },
  {
   "cell_type": "code",
   "execution_count": 129,
   "metadata": {
    "scrolled": true
   },
   "outputs": [
    {
     "data": {
      "text/html": [
       "<div>\n",
       "<style scoped>\n",
       "    .dataframe tbody tr th:only-of-type {\n",
       "        vertical-align: middle;\n",
       "    }\n",
       "\n",
       "    .dataframe tbody tr th {\n",
       "        vertical-align: top;\n",
       "    }\n",
       "\n",
       "    .dataframe thead th {\n",
       "        text-align: right;\n",
       "    }\n",
       "</style>\n",
       "<table border=\"1\" class=\"dataframe\">\n",
       "  <thead>\n",
       "    <tr style=\"text-align: right;\">\n",
       "      <th></th>\n",
       "      <th>count</th>\n",
       "      <th>mean</th>\n",
       "      <th>std</th>\n",
       "      <th>min</th>\n",
       "      <th>25%</th>\n",
       "      <th>50%</th>\n",
       "      <th>75%</th>\n",
       "      <th>max</th>\n",
       "    </tr>\n",
       "    <tr>\n",
       "      <th>age_group</th>\n",
       "      <th></th>\n",
       "      <th></th>\n",
       "      <th></th>\n",
       "      <th></th>\n",
       "      <th></th>\n",
       "      <th></th>\n",
       "      <th></th>\n",
       "      <th></th>\n",
       "    </tr>\n",
       "  </thead>\n",
       "  <tbody>\n",
       "    <tr>\n",
       "      <th>18-34</th>\n",
       "      <td>159.0</td>\n",
       "      <td>428.273585</td>\n",
       "      <td>219.949007</td>\n",
       "      <td>0.0</td>\n",
       "      <td>300.00</td>\n",
       "      <td>416.00</td>\n",
       "      <td>545.75</td>\n",
       "      <td>1102.0</td>\n",
       "    </tr>\n",
       "    <tr>\n",
       "      <th>35-44</th>\n",
       "      <td>73.0</td>\n",
       "      <td>399.417808</td>\n",
       "      <td>181.398254</td>\n",
       "      <td>0.0</td>\n",
       "      <td>290.50</td>\n",
       "      <td>408.00</td>\n",
       "      <td>509.50</td>\n",
       "      <td>860.0</td>\n",
       "    </tr>\n",
       "    <tr>\n",
       "      <th>45-54</th>\n",
       "      <td>92.0</td>\n",
       "      <td>446.565217</td>\n",
       "      <td>209.067766</td>\n",
       "      <td>0.0</td>\n",
       "      <td>297.75</td>\n",
       "      <td>462.75</td>\n",
       "      <td>566.00</td>\n",
       "      <td>1111.0</td>\n",
       "    </tr>\n",
       "    <tr>\n",
       "      <th>55-65</th>\n",
       "      <td>87.0</td>\n",
       "      <td>442.793103</td>\n",
       "      <td>226.864748</td>\n",
       "      <td>0.0</td>\n",
       "      <td>293.00</td>\n",
       "      <td>427.50</td>\n",
       "      <td>577.50</td>\n",
       "      <td>1215.0</td>\n",
       "    </tr>\n",
       "    <tr>\n",
       "      <th>above 65</th>\n",
       "      <td>79.0</td>\n",
       "      <td>410.993671</td>\n",
       "      <td>212.097877</td>\n",
       "      <td>0.0</td>\n",
       "      <td>270.25</td>\n",
       "      <td>414.00</td>\n",
       "      <td>543.50</td>\n",
       "      <td>905.0</td>\n",
       "    </tr>\n",
       "  </tbody>\n",
       "</table>\n",
       "</div>"
      ],
      "text/plain": [
       "           count        mean         std  min     25%     50%     75%     max\n",
       "age_group                                                                    \n",
       "18-34      159.0  428.273585  219.949007  0.0  300.00  416.00  545.75  1102.0\n",
       "35-44       73.0  399.417808  181.398254  0.0  290.50  408.00  509.50   860.0\n",
       "45-54       92.0  446.565217  209.067766  0.0  297.75  462.75  566.00  1111.0\n",
       "55-65       87.0  442.793103  226.864748  0.0  293.00  427.50  577.50  1215.0\n",
       "above 65    79.0  410.993671  212.097877  0.0  270.25  414.00  543.50   905.0"
      ]
     },
     "execution_count": 129,
     "metadata": {},
     "output_type": "execute_result"
    }
   ],
   "source": [
    "total_usage.groupby('age_group')['total_minutes'].describe()"
   ]
  },
  {
   "cell_type": "code",
   "execution_count": 130,
   "metadata": {},
   "outputs": [
    {
     "data": {
      "text/html": [
       "<div>\n",
       "<style scoped>\n",
       "    .dataframe tbody tr th:only-of-type {\n",
       "        vertical-align: middle;\n",
       "    }\n",
       "\n",
       "    .dataframe tbody tr th {\n",
       "        vertical-align: top;\n",
       "    }\n",
       "\n",
       "    .dataframe thead th {\n",
       "        text-align: right;\n",
       "    }\n",
       "</style>\n",
       "<table border=\"1\" class=\"dataframe\">\n",
       "  <thead>\n",
       "    <tr style=\"text-align: right;\">\n",
       "      <th></th>\n",
       "      <th>count</th>\n",
       "      <th>mean</th>\n",
       "      <th>std</th>\n",
       "      <th>min</th>\n",
       "      <th>25%</th>\n",
       "      <th>50%</th>\n",
       "      <th>75%</th>\n",
       "      <th>max</th>\n",
       "    </tr>\n",
       "    <tr>\n",
       "      <th>age_group</th>\n",
       "      <th></th>\n",
       "      <th></th>\n",
       "      <th></th>\n",
       "      <th></th>\n",
       "      <th></th>\n",
       "      <th></th>\n",
       "      <th></th>\n",
       "      <th></th>\n",
       "    </tr>\n",
       "  </thead>\n",
       "  <tbody>\n",
       "    <tr>\n",
       "      <th>18-34</th>\n",
       "      <td>159.0</td>\n",
       "      <td>35.207547</td>\n",
       "      <td>31.315478</td>\n",
       "      <td>0.0</td>\n",
       "      <td>9.50</td>\n",
       "      <td>30.00</td>\n",
       "      <td>54.0</td>\n",
       "      <td>150.0</td>\n",
       "    </tr>\n",
       "    <tr>\n",
       "      <th>35-44</th>\n",
       "      <td>73.0</td>\n",
       "      <td>34.315068</td>\n",
       "      <td>36.539696</td>\n",
       "      <td>0.0</td>\n",
       "      <td>0.50</td>\n",
       "      <td>28.00</td>\n",
       "      <td>53.0</td>\n",
       "      <td>168.5</td>\n",
       "    </tr>\n",
       "    <tr>\n",
       "      <th>45-54</th>\n",
       "      <td>92.0</td>\n",
       "      <td>36.402174</td>\n",
       "      <td>34.231696</td>\n",
       "      <td>0.0</td>\n",
       "      <td>11.00</td>\n",
       "      <td>30.75</td>\n",
       "      <td>49.0</td>\n",
       "      <td>159.0</td>\n",
       "    </tr>\n",
       "    <tr>\n",
       "      <th>55-65</th>\n",
       "      <td>87.0</td>\n",
       "      <td>33.867816</td>\n",
       "      <td>31.720844</td>\n",
       "      <td>0.0</td>\n",
       "      <td>7.75</td>\n",
       "      <td>27.50</td>\n",
       "      <td>56.5</td>\n",
       "      <td>128.0</td>\n",
       "    </tr>\n",
       "    <tr>\n",
       "      <th>above 65</th>\n",
       "      <td>79.0</td>\n",
       "      <td>41.189873</td>\n",
       "      <td>36.787967</td>\n",
       "      <td>0.0</td>\n",
       "      <td>12.25</td>\n",
       "      <td>30.00</td>\n",
       "      <td>69.0</td>\n",
       "      <td>148.0</td>\n",
       "    </tr>\n",
       "  </tbody>\n",
       "</table>\n",
       "</div>"
      ],
      "text/plain": [
       "           count       mean        std  min    25%    50%   75%    max\n",
       "age_group                                                             \n",
       "18-34      159.0  35.207547  31.315478  0.0   9.50  30.00  54.0  150.0\n",
       "35-44       73.0  34.315068  36.539696  0.0   0.50  28.00  53.0  168.5\n",
       "45-54       92.0  36.402174  34.231696  0.0  11.00  30.75  49.0  159.0\n",
       "55-65       87.0  33.867816  31.720844  0.0   7.75  27.50  56.5  128.0\n",
       "above 65    79.0  41.189873  36.787967  0.0  12.25  30.00  69.0  148.0"
      ]
     },
     "execution_count": 130,
     "metadata": {},
     "output_type": "execute_result"
    }
   ],
   "source": [
    "total_usage.groupby('age_group')['total_messages'].describe()"
   ]
  },
  {
   "cell_type": "code",
   "execution_count": 131,
   "metadata": {},
   "outputs": [
    {
     "data": {
      "text/html": [
       "<div>\n",
       "<style scoped>\n",
       "    .dataframe tbody tr th:only-of-type {\n",
       "        vertical-align: middle;\n",
       "    }\n",
       "\n",
       "    .dataframe tbody tr th {\n",
       "        vertical-align: top;\n",
       "    }\n",
       "\n",
       "    .dataframe thead th {\n",
       "        text-align: right;\n",
       "    }\n",
       "</style>\n",
       "<table border=\"1\" class=\"dataframe\">\n",
       "  <thead>\n",
       "    <tr style=\"text-align: right;\">\n",
       "      <th></th>\n",
       "      <th>count</th>\n",
       "      <th>mean</th>\n",
       "      <th>std</th>\n",
       "      <th>min</th>\n",
       "      <th>25%</th>\n",
       "      <th>50%</th>\n",
       "      <th>75%</th>\n",
       "      <th>max</th>\n",
       "    </tr>\n",
       "    <tr>\n",
       "      <th>age_group</th>\n",
       "      <th></th>\n",
       "      <th></th>\n",
       "      <th></th>\n",
       "      <th></th>\n",
       "      <th></th>\n",
       "      <th></th>\n",
       "      <th></th>\n",
       "      <th></th>\n",
       "    </tr>\n",
       "  </thead>\n",
       "  <tbody>\n",
       "    <tr>\n",
       "      <th>18-34</th>\n",
       "      <td>159.0</td>\n",
       "      <td>16.660377</td>\n",
       "      <td>6.558481</td>\n",
       "      <td>1.0</td>\n",
       "      <td>14.0</td>\n",
       "      <td>17.0</td>\n",
       "      <td>20.00</td>\n",
       "      <td>44.0</td>\n",
       "    </tr>\n",
       "    <tr>\n",
       "      <th>35-44</th>\n",
       "      <td>73.0</td>\n",
       "      <td>17.568493</td>\n",
       "      <td>7.133311</td>\n",
       "      <td>2.0</td>\n",
       "      <td>13.0</td>\n",
       "      <td>17.5</td>\n",
       "      <td>20.50</td>\n",
       "      <td>40.0</td>\n",
       "    </tr>\n",
       "    <tr>\n",
       "      <th>45-54</th>\n",
       "      <td>92.0</td>\n",
       "      <td>15.657609</td>\n",
       "      <td>5.548948</td>\n",
       "      <td>0.0</td>\n",
       "      <td>12.5</td>\n",
       "      <td>16.0</td>\n",
       "      <td>19.00</td>\n",
       "      <td>30.0</td>\n",
       "    </tr>\n",
       "    <tr>\n",
       "      <th>55-65</th>\n",
       "      <td>87.0</td>\n",
       "      <td>15.982759</td>\n",
       "      <td>6.911588</td>\n",
       "      <td>1.0</td>\n",
       "      <td>12.0</td>\n",
       "      <td>15.5</td>\n",
       "      <td>19.25</td>\n",
       "      <td>37.0</td>\n",
       "    </tr>\n",
       "    <tr>\n",
       "      <th>above 65</th>\n",
       "      <td>79.0</td>\n",
       "      <td>17.348101</td>\n",
       "      <td>5.679673</td>\n",
       "      <td>1.0</td>\n",
       "      <td>15.0</td>\n",
       "      <td>17.0</td>\n",
       "      <td>20.25</td>\n",
       "      <td>34.0</td>\n",
       "    </tr>\n",
       "  </tbody>\n",
       "</table>\n",
       "</div>"
      ],
      "text/plain": [
       "           count       mean       std  min   25%   50%    75%   max\n",
       "age_group                                                          \n",
       "18-34      159.0  16.660377  6.558481  1.0  14.0  17.0  20.00  44.0\n",
       "35-44       73.0  17.568493  7.133311  2.0  13.0  17.5  20.50  40.0\n",
       "45-54       92.0  15.657609  5.548948  0.0  12.5  16.0  19.00  30.0\n",
       "55-65       87.0  15.982759  6.911588  1.0  12.0  15.5  19.25  37.0\n",
       "above 65    79.0  17.348101  5.679673  1.0  15.0  17.0  20.25  34.0"
      ]
     },
     "execution_count": 131,
     "metadata": {},
     "output_type": "execute_result"
    }
   ],
   "source": [
    "total_usage.groupby('age_group')['gb_used'].describe()"
   ]
  },
  {
   "cell_type": "code",
   "execution_count": 132,
   "metadata": {},
   "outputs": [
    {
     "data": {
      "text/html": [
       "<div>\n",
       "<style scoped>\n",
       "    .dataframe tbody tr th:only-of-type {\n",
       "        vertical-align: middle;\n",
       "    }\n",
       "\n",
       "    .dataframe tbody tr th {\n",
       "        vertical-align: top;\n",
       "    }\n",
       "\n",
       "    .dataframe thead th {\n",
       "        text-align: right;\n",
       "    }\n",
       "</style>\n",
       "<table border=\"1\" class=\"dataframe\">\n",
       "  <thead>\n",
       "    <tr style=\"text-align: right;\">\n",
       "      <th></th>\n",
       "      <th>count</th>\n",
       "      <th>mean</th>\n",
       "      <th>std</th>\n",
       "      <th>min</th>\n",
       "      <th>25%</th>\n",
       "      <th>50%</th>\n",
       "      <th>75%</th>\n",
       "      <th>max</th>\n",
       "    </tr>\n",
       "    <tr>\n",
       "      <th>age_group</th>\n",
       "      <th></th>\n",
       "      <th></th>\n",
       "      <th></th>\n",
       "      <th></th>\n",
       "      <th></th>\n",
       "      <th></th>\n",
       "      <th></th>\n",
       "      <th></th>\n",
       "    </tr>\n",
       "  </thead>\n",
       "  <tbody>\n",
       "    <tr>\n",
       "      <th>18-34</th>\n",
       "      <td>159.0</td>\n",
       "      <td>62.009182</td>\n",
       "      <td>42.920772</td>\n",
       "      <td>20.0</td>\n",
       "      <td>30.0000</td>\n",
       "      <td>61.74</td>\n",
       "      <td>70.0</td>\n",
       "      <td>320.185</td>\n",
       "    </tr>\n",
       "    <tr>\n",
       "      <th>35-44</th>\n",
       "      <td>73.0</td>\n",
       "      <td>63.267055</td>\n",
       "      <td>43.476760</td>\n",
       "      <td>20.0</td>\n",
       "      <td>30.0500</td>\n",
       "      <td>70.00</td>\n",
       "      <td>70.0</td>\n",
       "      <td>270.000</td>\n",
       "    </tr>\n",
       "    <tr>\n",
       "      <th>45-54</th>\n",
       "      <td>92.0</td>\n",
       "      <td>58.372826</td>\n",
       "      <td>28.603989</td>\n",
       "      <td>20.0</td>\n",
       "      <td>37.0125</td>\n",
       "      <td>70.00</td>\n",
       "      <td>70.0</td>\n",
       "      <td>158.120</td>\n",
       "    </tr>\n",
       "    <tr>\n",
       "      <th>55-65</th>\n",
       "      <td>87.0</td>\n",
       "      <td>57.156839</td>\n",
       "      <td>40.131956</td>\n",
       "      <td>20.0</td>\n",
       "      <td>23.4800</td>\n",
       "      <td>60.00</td>\n",
       "      <td>70.0</td>\n",
       "      <td>243.390</td>\n",
       "    </tr>\n",
       "    <tr>\n",
       "      <th>above 65</th>\n",
       "      <td>79.0</td>\n",
       "      <td>66.717975</td>\n",
       "      <td>37.655906</td>\n",
       "      <td>20.0</td>\n",
       "      <td>40.0000</td>\n",
       "      <td>70.00</td>\n",
       "      <td>70.0</td>\n",
       "      <td>219.315</td>\n",
       "    </tr>\n",
       "  </tbody>\n",
       "</table>\n",
       "</div>"
      ],
      "text/plain": [
       "           count       mean        std   min      25%    50%   75%      max\n",
       "age_group                                                                  \n",
       "18-34      159.0  62.009182  42.920772  20.0  30.0000  61.74  70.0  320.185\n",
       "35-44       73.0  63.267055  43.476760  20.0  30.0500  70.00  70.0  270.000\n",
       "45-54       92.0  58.372826  28.603989  20.0  37.0125  70.00  70.0  158.120\n",
       "55-65       87.0  57.156839  40.131956  20.0  23.4800  60.00  70.0  243.390\n",
       "above 65    79.0  66.717975  37.655906  20.0  40.0000  70.00  70.0  219.315"
      ]
     },
     "execution_count": 132,
     "metadata": {},
     "output_type": "execute_result"
    }
   ],
   "source": [
    "total_usage.groupby('age_group')['total_profit'].describe()"
   ]
  },
  {
   "cell_type": "markdown",
   "metadata": {},
   "source": [
    "The median plots for calling minutes, messages, internet use and total profits show very similar figures across all 5 age groups. \n",
    "\n",
    "Taking a look at the summary statistics, we could notice that users in the 45-54 age group have a slightly higher median calling minutes than the others, users below the age of 45, and above 65 have slightly higher internet usage than the others. \n",
    "\n",
    "While the differences seem to be small, whether these are significant or not will need to be tested. For the purpose of this analysis, we will not go further along this line. "
   ]
  },
  {
   "cell_type": "markdown",
   "metadata": {},
   "source": [
    "### Part 4 summary "
   ]
  },
  {
   "cell_type": "markdown",
   "metadata": {},
   "source": [
    "In this section, we took a look at the monthly usage of each of the three services by plan, as well as the monthly profits. It is really interesting to see that, despite which calling plan the users have, they seem to have very similar need for calling, messaging, and internet use services. Therefore, because the surf plan has a lower cap on all three, users of the surf plan tend to use beyond the plan, especially when it comes to internet use. \n",
    "\n",
    "Such information is important to the commercial department because, if they want to promote the Ultimate calling plan, they can choose to target those who tend to go over the plan, especaily those surf plan users who actually have paid more than the ultimate plan. Having said that, profit wise, if these users keep paying like that, it might be more profitable to keep them as surf users. "
   ]
  },
  {
   "cell_type": "markdown",
   "metadata": {},
   "source": [
    "### Part 5: Hypothesis testing"
   ]
  },
  {
   "cell_type": "markdown",
   "metadata": {},
   "source": [
    "<a id=\"hypothesis\"></a>"
   ]
  },
  {
   "cell_type": "markdown",
   "metadata": {},
   "source": [
    "In this section, we will test the following hypotheses: \n",
    "\n",
    " - The average profit from users of Ultimate and Surf calling plans differs; \n",
    " - The average profit from users in NY-NJ area is different from that of the users from other regions.\n",
    " \n",
    "Both tests will be two sided, and the alpha value for the hypothesis testing will be 0.05. "
   ]
  },
  {
   "cell_type": "markdown",
   "metadata": {},
   "source": [
    "**5.1 Hypothesis test 1**"
   ]
  },
  {
   "cell_type": "markdown",
   "metadata": {},
   "source": [
    "The null hypothesis for this test is: the average profit from Ultimate and Surf calling plan users are the same; and the alternative hypothesis is they are different. \n",
    "\n",
    "We will first have a look at the summary statistics of the total_profit of two plans, and then conduct a t test to compare the means. "
   ]
  },
  {
   "cell_type": "code",
   "execution_count": 133,
   "metadata": {},
   "outputs": [
    {
     "data": {
      "text/plain": [
       "count    333.000000\n",
       "mean      56.636997\n",
       "std       46.676055\n",
       "min       20.000000\n",
       "25%       21.260000\n",
       "50%       42.400000\n",
       "75%       73.780000\n",
       "max      320.185000\n",
       "Name: total_profit, dtype: float64"
      ]
     },
     "execution_count": 133,
     "metadata": {},
     "output_type": "execute_result"
    }
   ],
   "source": [
    "surf_usage['total_profit'].describe()"
   ]
  },
  {
   "cell_type": "code",
   "execution_count": 134,
   "metadata": {},
   "outputs": [
    {
     "data": {
      "text/plain": [
       "count    157.000000\n",
       "mean      71.538217\n",
       "std        7.459837\n",
       "min       70.000000\n",
       "25%       70.000000\n",
       "50%       70.000000\n",
       "75%       70.000000\n",
       "max      126.000000\n",
       "Name: total_profit, dtype: float64"
      ]
     },
     "execution_count": 134,
     "metadata": {},
     "output_type": "execute_result"
    }
   ],
   "source": [
    "ultimate_usage['total_profit'].describe()"
   ]
  },
  {
   "cell_type": "markdown",
   "metadata": {},
   "source": [
    "The information above shows that the two plans have quite different dispersion. We will set equal_var as False for the t test. "
   ]
  },
  {
   "cell_type": "code",
   "execution_count": 135,
   "metadata": {},
   "outputs": [
    {
     "data": {
      "text/plain": [
       "2.8350507625849942e-08"
      ]
     },
     "execution_count": 135,
     "metadata": {},
     "output_type": "execute_result"
    }
   ],
   "source": [
    "st.ttest_ind(surf_usage['total_profit'], ultimate_usage['total_profit'], \n",
    "             equal_var = False).pvalue"
   ]
  },
  {
   "cell_type": "markdown",
   "metadata": {},
   "source": [
    "The pvalue we get from the test is a lot smaller than alpha, 0.05. Therefore we reject the null hypthesis, and have reason to believe that the profit from the two plans are different. \n",
    "\n",
    "If we are to run a one sided hypothesis test using the same alpha 0.05 to test if the average profit from ultimate plan is higher than the surf plan, the pvalue will be halved, and it is still smaller than alpha. \n",
    "\n",
    "Therefore based on the test above, we can conclude that, on average, Megaline generate more profits from its ultimate plan than the surf plan. "
   ]
  },
  {
   "cell_type": "markdown",
   "metadata": {},
   "source": [
    "**5.2 Hypothesis testing 2**"
   ]
  },
  {
   "cell_type": "code",
   "execution_count": 136,
   "metadata": {},
   "outputs": [
    {
     "data": {
      "text/plain": [
       "New York-Newark-Jersey City, NY-NJ-PA MSA          79\n",
       "Los Angeles-Long Beach-Anaheim, CA MSA             29\n",
       "Dallas-Fort Worth-Arlington, TX MSA                20\n",
       "Chicago-Naperville-Elgin, IL-IN-WI MSA             19\n",
       "Philadelphia-Camden-Wilmington, PA-NJ-DE-MD MSA    17\n",
       "                                                   ..\n",
       "Jacksonville, FL MSA                                1\n",
       "Oxnard-Thousand Oaks-Ventura, CA MSA                1\n",
       "Greensboro-High Point, NC MSA                       1\n",
       "Colorado Springs, CO MSA                            1\n",
       "Albany-Schenectady-Troy, NY MSA                     1\n",
       "Name: city, Length: 73, dtype: int64"
      ]
     },
     "execution_count": 136,
     "metadata": {},
     "output_type": "execute_result"
    }
   ],
   "source": [
    "total_usage['city'].value_counts()"
   ]
  },
  {
   "cell_type": "markdown",
   "metadata": {},
   "source": [
    "There are a total of 79 users from NY-NJ area. The null hypothesis for this test is that the average profits from these users and those from others do not differ. The alternative hypothesis is that they are different. "
   ]
  },
  {
   "cell_type": "markdown",
   "metadata": {},
   "source": [
    "First let's separate the dataset by regions and take a look at the summary statistics of total profit. "
   ]
  },
  {
   "cell_type": "code",
   "execution_count": 137,
   "metadata": {},
   "outputs": [],
   "source": [
    "total_usage_ny = total_usage.query('city == \"New York-Newark-Jersey City, NY-NJ-PA MSA\"')"
   ]
  },
  {
   "cell_type": "code",
   "execution_count": 138,
   "metadata": {},
   "outputs": [],
   "source": [
    "total_usage_other = total_usage.query('city != \"New York-Newark-Jersey City, NY-NJ-PA MSA\"')"
   ]
  },
  {
   "cell_type": "code",
   "execution_count": 139,
   "metadata": {},
   "outputs": [
    {
     "data": {
      "text/plain": [
       "count     79.000000\n",
       "mean      56.882975\n",
       "std       37.000064\n",
       "min       20.000000\n",
       "25%       25.800000\n",
       "50%       51.920000\n",
       "75%       70.000000\n",
       "max      210.290000\n",
       "Name: total_profit, dtype: float64"
      ]
     },
     "execution_count": 139,
     "metadata": {},
     "output_type": "execute_result"
    }
   ],
   "source": [
    "total_usage_ny['total_profit'].describe()"
   ]
  },
  {
   "cell_type": "code",
   "execution_count": 140,
   "metadata": {},
   "outputs": [
    {
     "data": {
      "text/plain": [
       "count    411.000000\n",
       "mean      62.281910\n",
       "std       39.723804\n",
       "min       20.000000\n",
       "25%       30.120000\n",
       "50%       70.000000\n",
       "75%       70.000000\n",
       "max      320.185000\n",
       "Name: total_profit, dtype: float64"
      ]
     },
     "execution_count": 140,
     "metadata": {},
     "output_type": "execute_result"
    }
   ],
   "source": [
    "total_usage_other['total_profit'].describe()"
   ]
  },
  {
   "cell_type": "markdown",
   "metadata": {},
   "source": [
    "The above shows that the two groups have similar variance. We will use the default equal_var setting for the t test below."
   ]
  },
  {
   "cell_type": "code",
   "execution_count": 141,
   "metadata": {},
   "outputs": [
    {
     "data": {
      "text/plain": [
       "0.26400973729852173"
      ]
     },
     "execution_count": 141,
     "metadata": {},
     "output_type": "execute_result"
    }
   ],
   "source": [
    "st.ttest_ind(total_usage_ny['total_profit'], \n",
    "             total_usage_other['total_profit']).pvalue"
   ]
  },
  {
   "cell_type": "markdown",
   "metadata": {},
   "source": [
    "Using alpha 0.05, the pvalue we get from the test above is higher than the alpha value. Therefore we fail to reject the null hypothesis and can not say that the average profits from users in NY-NJ region and from users in other regions are different. "
   ]
  },
  {
   "cell_type": "markdown",
   "metadata": {},
   "source": [
    "**5.3 Current users v.s previous users.** \n",
    "\n",
    "Finally, as an extra research, I'm interested in finding out how the users who terminated their plan might different from the others. Let's just take a quick look. "
   ]
  },
  {
   "cell_type": "code",
   "execution_count": 142,
   "metadata": {},
   "outputs": [],
   "source": [
    "total_usage_previous_user = total_usage[\n",
    "    total_usage['user_id'].isin(users_previous[\"user_id\"])]"
   ]
  },
  {
   "cell_type": "code",
   "execution_count": 143,
   "metadata": {},
   "outputs": [],
   "source": [
    "total_usage_current_user = total_usage[\n",
    "    ~total_usage['user_id'].isin(users_previous[\"user_id\"])]"
   ]
  },
  {
   "cell_type": "code",
   "execution_count": 144,
   "metadata": {},
   "outputs": [
    {
     "data": {
      "text/plain": [
       "count     32.000000\n",
       "mean      59.025000\n",
       "std       29.786034\n",
       "min       20.000000\n",
       "25%       36.250000\n",
       "50%       65.870000\n",
       "75%       70.000000\n",
       "max      124.710000\n",
       "Name: total_profit, dtype: float64"
      ]
     },
     "execution_count": 144,
     "metadata": {},
     "output_type": "execute_result"
    }
   ],
   "source": [
    "total_usage_previous_user['total_profit'].describe()"
   ]
  },
  {
   "cell_type": "code",
   "execution_count": 145,
   "metadata": {},
   "outputs": [
    {
     "data": {
      "text/plain": [
       "count    458.000000\n",
       "mean      61.578210\n",
       "std       39.912033\n",
       "min       20.000000\n",
       "25%       30.000000\n",
       "50%       70.000000\n",
       "75%       70.000000\n",
       "max      320.185000\n",
       "Name: total_profit, dtype: float64"
      ]
     },
     "execution_count": 145,
     "metadata": {},
     "output_type": "execute_result"
    }
   ],
   "source": [
    "total_usage_current_user['total_profit'].describe()"
   ]
  },
  {
   "cell_type": "markdown",
   "metadata": {},
   "source": [
    "Although the statistics above is quite telling already, let's still do a quick t test with the null hypothesis that the average profits from the two groups, previous and current users, are the same. Alpha value will be the same, 0.05."
   ]
  },
  {
   "cell_type": "code",
   "execution_count": 146,
   "metadata": {},
   "outputs": [
    {
     "data": {
      "text/plain": [
       "0.6501398236846614"
      ]
     },
     "execution_count": 146,
     "metadata": {},
     "output_type": "execute_result"
    }
   ],
   "source": [
    "st.ttest_ind(total_usage_previous_user['total_profit'],\n",
    "             total_usage_current_user['total_profit'], equal_var = False).pvalue"
   ]
  },
  {
   "cell_type": "markdown",
   "metadata": {},
   "source": [
    "That's a very large p value, so we can't reject the null hypothesis. Therefore probably the users didn't terminate the plan because they think they have been ripped off by Megaline, because they are paying about the same as the current users. This is just a side track analysis out of interest. Megaline probably have other ways to find out why users terminate the plan, such as a survey or etc. "
   ]
  },
  {
   "cell_type": "markdown",
   "metadata": {},
   "source": [
    "### Part 5 summary"
   ]
  },
  {
   "cell_type": "markdown",
   "metadata": {},
   "source": [
    "Among the three hypotheses in this section, we successfully rejected the first one, based on which we can conclude that the average profits differs by plan, the ultimate plan is more profitable than the surf plan. "
   ]
  },
  {
   "cell_type": "markdown",
   "metadata": {},
   "source": [
    "### Part 6: Findings and conclusions "
   ]
  },
  {
   "cell_type": "markdown",
   "metadata": {},
   "source": [
    "<a id=\"conclusion\"></a>"
   ]
  },
  {
   "cell_type": "markdown",
   "metadata": {},
   "source": [
    "In this report, we've analyzed the calling plan usage of 500 Megaline clients. A close look at the clients' usage of all three services, and the profits generated from each plan, tells us that, despite the two plans differing greatly in their cap on calling minutes, messages, and internet use, the users of the two plans show similar patterns in how much service they consume. This results in majority of the monthly payment by the surf plan clients going beyond the basic plan cost. \n",
    "\n",
    "Given the ultimate plan on average brings more profit to the company than the surf plan, it would be a win-win situation for both if Megaline promotes its ultimate package, especially to those surf users who incur more cost even than the ultimate plan charge. \n",
    "\n",
    "Moreoever, it is a big jump from 20 to 70 between the two plans. Given the results of the analysis of the users' behaviors, it might be a good idea to have a third plan which includes, for example, 800 minutes calls, and 20GB internet, at a price, for example, 50 dollars. Based on our analysis, there are a lot of users who actually need this much service but for whom what the ultimate plan offers might feel a little over the top. Having a intermediate level plan will allow the company to more easily peruade them to upgrade and gain more profits. A possible name for it is the Cruise plan:) "
   ]
  }
 ],
 "metadata": {
  "kernelspec": {
   "display_name": "Python 3",
   "language": "python",
   "name": "python3"
  },
  "language_info": {
   "codemirror_mode": {
    "name": "ipython",
    "version": 3
   },
   "file_extension": ".py",
   "mimetype": "text/x-python",
   "name": "python",
   "nbconvert_exporter": "python",
   "pygments_lexer": "ipython3",
   "version": "3.8.5"
  }
 },
 "nbformat": 4,
 "nbformat_minor": 2
}
